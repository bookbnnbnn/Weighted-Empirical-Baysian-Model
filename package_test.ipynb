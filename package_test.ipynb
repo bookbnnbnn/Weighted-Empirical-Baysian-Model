{
 "cells": [
  {
   "cell_type": "code",
   "execution_count": 1,
   "metadata": {},
   "outputs": [],
   "source": [
    "from QEB import WQEB\n",
    "import matplotlib.pyplot as plt\n",
    "import numpy as np\n",
    "from scipy.stats import invgamma"
   ]
  },
  {
   "cell_type": "code",
   "execution_count": 2,
   "metadata": {},
   "outputs": [],
   "source": [
    "wqeb = WQEB()\n",
    "data = wqeb.create_data(contained_ratio=0.3)"
   ]
  },
  {
   "cell_type": "code",
   "execution_count": 3,
   "metadata": {},
   "outputs": [
    {
     "data": {
      "text/plain": [
       "<matplotlib.collections.PathCollection at 0x14e117910>"
      ]
     },
     "execution_count": 3,
     "metadata": {},
     "output_type": "execute_result"
    },
    {
     "data": {
      "image/png": "[encoded data removed]",
      "text/plain": [
       "<Figure size 640x480 with 1 Axes>"
      ]
     },
     "metadata": {},
     "output_type": "display_data"
    }
   ],
   "source": [
    "plt.scatter(wqeb.distances_to_center[\"A\"][0], data[\"A\"][0])"
   ]
  },
  {
   "cell_type": "code",
   "execution_count": 4,
   "metadata": {},
   "outputs": [],
   "source": [
    "MAX_RAD = 0.2"
   ]
  },
  {
   "cell_type": "code",
   "execution_count": 5,
   "metadata": {},
   "outputs": [
    {
     "name": "stderr",
     "output_type": "stream",
     "text": [
      "/Users/zhengshucheng/Desktop/中研院/QEB/QEB/utils.py:69: FutureWarning: The default value of numeric_only in DataFrameGroupBy.mean is deprecated. In a future version, numeric_only will default to False. Either specify numeric_only or select only columns which should be valid for the function.\n",
      "  new_df = gb_defected.mean().reset_index()\n"
     ]
    },
    {
     "data": {
      "application/vnd.jupyter.widget-view+json": {
       "model_id": "a0bae0cddc274322885f085b875466d6",
       "version_major": 2,
       "version_minor": 0
      },
      "text/plain": [
       "  0%|          | 0/150 [00:00<?, ?it/s]"
      ]
     },
     "metadata": {},
     "output_type": "display_data"
    }
   ],
   "source": [
    "wqeb = WQEB()\n",
    "data = wqeb.read_data(\n",
    "    root_map='./dataset/emd_11103.map', \n",
    "    root_pdb='./dataset/6z6u.pdb',\n",
    "    atomic=\"CA\",\n",
    "    max_rad = MAX_RAD, \n",
    "    base_num_points=2, \n",
    "    max_points=20\n",
    "    )"
   ]
  },
  {
   "cell_type": "code",
   "execution_count": 6,
   "metadata": {},
   "outputs": [],
   "source": [
    "beta_j = wqeb.estimate_beta_j_by_Bayse()"
   ]
  },
  {
   "cell_type": "code",
   "execution_count": 6,
   "metadata": {},
   "outputs": [
    {
     "data": {
      "text/plain": [
       "({'SER': array([-1.47487211,  6.92202703]),\n",
       "  'THR': array([-1.35936837,  6.95088074]),\n",
       "  'GLN': array([-0.89904574,  4.76147553]),\n",
       "  'VAL': array([-0.85247022,  1.61502676]),\n",
       "  'ARG': array([-0.79423555,  5.15340849]),\n",
       "  'ASN': array([-0.82046892,  6.09027166]),\n",
       "  'TYR': array([-0.79145363,  2.89929759]),\n",
       "  'HIS': array([-0.98800724,  3.21657678]),\n",
       "  'ASP': array([-1.16493051,  3.43353131]),\n",
       "  'GLU': array([-1.02244352,  6.21683452]),\n",
       "  'ALA': array([-0.94761422,  4.20671442]),\n",
       "  'ILE': array([-0.82189108,  3.68289964]),\n",
       "  'LEU': array([-0.84819858,  4.17313766]),\n",
       "  'MET': array([-0.80909192,  5.32816239]),\n",
       "  'PHE': array([-0.76850694,  4.3129874 ]),\n",
       "  'LYS': array([-0.98602517,  4.28881596]),\n",
       "  'GLY': array([-1.14682326,  3.20397009]),\n",
       "  'PRO': array([-1.34099087,  5.59688526]),\n",
       "  'TRP': array([-1.07773741,  0.20240732]),\n",
       "  'CYS': array([-0.9033304 ,  3.15258846])},\n",
       " {'SER': array([[1., 0.],\n",
       "         [0., 1.]]),\n",
       "  'THR': array([[1., 0.],\n",
       "         [0., 1.]]),\n",
       "  'GLN': array([[1., 0.],\n",
       "         [0., 1.]]),\n",
       "  'VAL': array([[1., 0.],\n",
       "         [0., 1.]]),\n",
       "  'ARG': array([[1., 0.],\n",
       "         [0., 1.]]),\n",
       "  'ASN': array([[1., 0.],\n",
       "         [0., 1.]]),\n",
       "  'TYR': array([[1., 0.],\n",
       "         [0., 1.]]),\n",
       "  'HIS': array([[1., 0.],\n",
       "         [0., 1.]]),\n",
       "  'ASP': array([[1., 0.],\n",
       "         [0., 1.]]),\n",
       "  'GLU': array([[1., 0.],\n",
       "         [0., 1.]]),\n",
       "  'ALA': array([[1., 0.],\n",
       "         [0., 1.]]),\n",
       "  'ILE': array([[1., 0.],\n",
       "         [0., 1.]]),\n",
       "  'LEU': array([[1., 0.],\n",
       "         [0., 1.]]),\n",
       "  'MET': array([[1., 0.],\n",
       "         [0., 1.]]),\n",
       "  'PHE': array([[1., 0.],\n",
       "         [0., 1.]]),\n",
       "  'LYS': array([[1., 0.],\n",
       "         [0., 1.]]),\n",
       "  'GLY': array([[1., 0.],\n",
       "         [0., 1.]]),\n",
       "  'PRO': array([[1., 0.],\n",
       "         [0., 1.]]),\n",
       "  'TRP': array([[1., 0.],\n",
       "         [0., 1.]]),\n",
       "  'CYS': array([[1., 0.],\n",
       "         [0., 1.]])},\n",
       " {'SER': 2,\n",
       "  'THR': 2,\n",
       "  'GLN': 2,\n",
       "  'VAL': 2,\n",
       "  'ARG': 2,\n",
       "  'ASN': 2,\n",
       "  'TYR': 2,\n",
       "  'HIS': 2,\n",
       "  'ASP': 2,\n",
       "  'GLU': 2,\n",
       "  'ALA': 2,\n",
       "  'ILE': 2,\n",
       "  'LEU': 2,\n",
       "  'MET': 2,\n",
       "  'PHE': 2,\n",
       "  'LYS': 2,\n",
       "  'GLY': 2,\n",
       "  'PRO': 2,\n",
       "  'TRP': 2,\n",
       "  'CYS': 2},\n",
       " {'SER': 345.511077455006,\n",
       "  'THR': 72.75147915207958,\n",
       "  'GLN': 4.554201072065137,\n",
       "  'VAL': 3.545441422951565,\n",
       "  'ARG': 1.1914971656579203,\n",
       "  'ASN': 7.085099295342829,\n",
       "  'TYR': 4.939309263527585,\n",
       "  'HIS': 2.7831057066259586,\n",
       "  'ASP': 13.05990074302103,\n",
       "  'GLU': 20.15463730572735,\n",
       "  'ALA': 9.214628790754738,\n",
       "  'ILE': 1.0031088399289831,\n",
       "  'LEU': 3.4445821385952744,\n",
       "  'MET': 11.524482331691953,\n",
       "  'PHE': 2.7922373822004323,\n",
       "  'LYS': 12.59574988567407,\n",
       "  'GLY': 26.988231944963925,\n",
       "  'PRO': 48.866647019007566,\n",
       "  'TRP': 0.53445762645092,\n",
       "  'CYS': 0.6938342594978978},\n",
       " {'SER': array([[[1., 0., 0., ..., 0., 0., 0.],\n",
       "          [0., 1., 0., ..., 0., 0., 0.],\n",
       "          [0., 0., 1., ..., 0., 0., 0.],\n",
       "          ...,\n",
       "          [0., 0., 0., ..., 1., 0., 0.],\n",
       "          [0., 0., 0., ..., 0., 1., 0.],\n",
       "          [0., 0., 0., ..., 0., 0., 1.]],\n",
       "  \n",
       "         [[1., 0., 0., ..., 0., 0., 0.],\n",
       "          [0., 1., 0., ..., 0., 0., 0.],\n",
       "          [0., 0., 1., ..., 0., 0., 0.],\n",
       "          ...,\n",
       "          [0., 0., 0., ..., 1., 0., 0.],\n",
       "          [0., 0., 0., ..., 0., 1., 0.],\n",
       "          [0., 0., 0., ..., 0., 0., 1.]],\n",
       "  \n",
       "         [[1., 0., 0., ..., 0., 0., 0.],\n",
       "          [0., 1., 0., ..., 0., 0., 0.],\n",
       "          [0., 0., 1., ..., 0., 0., 0.],\n",
       "          ...,\n",
       "          [0., 0., 0., ..., 1., 0., 0.],\n",
       "          [0., 0., 0., ..., 0., 1., 0.],\n",
       "          [0., 0., 0., ..., 0., 0., 1.]],\n",
       "  \n",
       "         ...,\n",
       "  \n",
       "         [[1., 0., 0., ..., 0., 0., 0.],\n",
       "          [0., 1., 0., ..., 0., 0., 0.],\n",
       "          [0., 0., 1., ..., 0., 0., 0.],\n",
       "          ...,\n",
       "          [0., 0., 0., ..., 1., 0., 0.],\n",
       "          [0., 0., 0., ..., 0., 1., 0.],\n",
       "          [0., 0., 0., ..., 0., 0., 1.]],\n",
       "  \n",
       "         [[1., 0., 0., ..., 0., 0., 0.],\n",
       "          [0., 1., 0., ..., 0., 0., 0.],\n",
       "          [0., 0., 1., ..., 0., 0., 0.],\n",
       "          ...,\n",
       "          [0., 0., 0., ..., 1., 0., 0.],\n",
       "          [0., 0., 0., ..., 0., 1., 0.],\n",
       "          [0., 0., 0., ..., 0., 0., 1.]],\n",
       "  \n",
       "         [[1., 0., 0., ..., 0., 0., 0.],\n",
       "          [0., 1., 0., ..., 0., 0., 0.],\n",
       "          [0., 0., 1., ..., 0., 0., 0.],\n",
       "          ...,\n",
       "          [0., 0., 0., ..., 1., 0., 0.],\n",
       "          [0., 0., 0., ..., 0., 1., 0.],\n",
       "          [0., 0., 0., ..., 0., 0., 1.]]]),\n",
       "  'THR': array([[[1., 0., 0., ..., 0., 0., 0.],\n",
       "          [0., 1., 0., ..., 0., 0., 0.],\n",
       "          [0., 0., 1., ..., 0., 0., 0.],\n",
       "          ...,\n",
       "          [0., 0., 0., ..., 1., 0., 0.],\n",
       "          [0., 0., 0., ..., 0., 1., 0.],\n",
       "          [0., 0., 0., ..., 0., 0., 1.]],\n",
       "  \n",
       "         [[1., 0., 0., ..., 0., 0., 0.],\n",
       "          [0., 1., 0., ..., 0., 0., 0.],\n",
       "          [0., 0., 1., ..., 0., 0., 0.],\n",
       "          ...,\n",
       "          [0., 0., 0., ..., 1., 0., 0.],\n",
       "          [0., 0., 0., ..., 0., 1., 0.],\n",
       "          [0., 0., 0., ..., 0., 0., 1.]],\n",
       "  \n",
       "         [[1., 0., 0., ..., 0., 0., 0.],\n",
       "          [0., 1., 0., ..., 0., 0., 0.],\n",
       "          [0., 0., 1., ..., 0., 0., 0.],\n",
       "          ...,\n",
       "          [0., 0., 0., ..., 1., 0., 0.],\n",
       "          [0., 0., 0., ..., 0., 1., 0.],\n",
       "          [0., 0., 0., ..., 0., 0., 1.]]]),\n",
       "  'GLN': array([[[1., 0., 0., ..., 0., 0., 0.],\n",
       "          [0., 1., 0., ..., 0., 0., 0.],\n",
       "          [0., 0., 1., ..., 0., 0., 0.],\n",
       "          ...,\n",
       "          [0., 0., 0., ..., 1., 0., 0.],\n",
       "          [0., 0., 0., ..., 0., 1., 0.],\n",
       "          [0., 0., 0., ..., 0., 0., 1.]],\n",
       "  \n",
       "         [[1., 0., 0., ..., 0., 0., 0.],\n",
       "          [0., 1., 0., ..., 0., 0., 0.],\n",
       "          [0., 0., 1., ..., 0., 0., 0.],\n",
       "          ...,\n",
       "          [0., 0., 0., ..., 1., 0., 0.],\n",
       "          [0., 0., 0., ..., 0., 1., 0.],\n",
       "          [0., 0., 0., ..., 0., 0., 1.]],\n",
       "  \n",
       "         [[1., 0., 0., ..., 0., 0., 0.],\n",
       "          [0., 1., 0., ..., 0., 0., 0.],\n",
       "          [0., 0., 1., ..., 0., 0., 0.],\n",
       "          ...,\n",
       "          [0., 0., 0., ..., 1., 0., 0.],\n",
       "          [0., 0., 0., ..., 0., 1., 0.],\n",
       "          [0., 0., 0., ..., 0., 0., 1.]],\n",
       "  \n",
       "         ...,\n",
       "  \n",
       "         [[1., 0., 0., ..., 0., 0., 0.],\n",
       "          [0., 1., 0., ..., 0., 0., 0.],\n",
       "          [0., 0., 1., ..., 0., 0., 0.],\n",
       "          ...,\n",
       "          [0., 0., 0., ..., 1., 0., 0.],\n",
       "          [0., 0., 0., ..., 0., 1., 0.],\n",
       "          [0., 0., 0., ..., 0., 0., 1.]],\n",
       "  \n",
       "         [[1., 0., 0., ..., 0., 0., 0.],\n",
       "          [0., 1., 0., ..., 0., 0., 0.],\n",
       "          [0., 0., 1., ..., 0., 0., 0.],\n",
       "          ...,\n",
       "          [0., 0., 0., ..., 1., 0., 0.],\n",
       "          [0., 0., 0., ..., 0., 1., 0.],\n",
       "          [0., 0., 0., ..., 0., 0., 1.]],\n",
       "  \n",
       "         [[1., 0., 0., ..., 0., 0., 0.],\n",
       "          [0., 1., 0., ..., 0., 0., 0.],\n",
       "          [0., 0., 1., ..., 0., 0., 0.],\n",
       "          ...,\n",
       "          [0., 0., 0., ..., 1., 0., 0.],\n",
       "          [0., 0., 0., ..., 0., 1., 0.],\n",
       "          [0., 0., 0., ..., 0., 0., 1.]]]),\n",
       "  'VAL': array([[[1., 0., 0., ..., 0., 0., 0.],\n",
       "          [0., 1., 0., ..., 0., 0., 0.],\n",
       "          [0., 0., 1., ..., 0., 0., 0.],\n",
       "          ...,\n",
       "          [0., 0., 0., ..., 1., 0., 0.],\n",
       "          [0., 0., 0., ..., 0., 1., 0.],\n",
       "          [0., 0., 0., ..., 0., 0., 1.]],\n",
       "  \n",
       "         [[1., 0., 0., ..., 0., 0., 0.],\n",
       "          [0., 1., 0., ..., 0., 0., 0.],\n",
       "          [0., 0., 1., ..., 0., 0., 0.],\n",
       "          ...,\n",
       "          [0., 0., 0., ..., 1., 0., 0.],\n",
       "          [0., 0., 0., ..., 0., 1., 0.],\n",
       "          [0., 0., 0., ..., 0., 0., 1.]],\n",
       "  \n",
       "         [[1., 0., 0., ..., 0., 0., 0.],\n",
       "          [0., 1., 0., ..., 0., 0., 0.],\n",
       "          [0., 0., 1., ..., 0., 0., 0.],\n",
       "          ...,\n",
       "          [0., 0., 0., ..., 1., 0., 0.],\n",
       "          [0., 0., 0., ..., 0., 1., 0.],\n",
       "          [0., 0., 0., ..., 0., 0., 1.]],\n",
       "  \n",
       "         [[1., 0., 0., ..., 0., 0., 0.],\n",
       "          [0., 1., 0., ..., 0., 0., 0.],\n",
       "          [0., 0., 1., ..., 0., 0., 0.],\n",
       "          ...,\n",
       "          [0., 0., 0., ..., 1., 0., 0.],\n",
       "          [0., 0., 0., ..., 0., 1., 0.],\n",
       "          [0., 0., 0., ..., 0., 0., 1.]],\n",
       "  \n",
       "         [[1., 0., 0., ..., 0., 0., 0.],\n",
       "          [0., 1., 0., ..., 0., 0., 0.],\n",
       "          [0., 0., 1., ..., 0., 0., 0.],\n",
       "          ...,\n",
       "          [0., 0., 0., ..., 1., 0., 0.],\n",
       "          [0., 0., 0., ..., 0., 1., 0.],\n",
       "          [0., 0., 0., ..., 0., 0., 1.]],\n",
       "  \n",
       "         [[1., 0., 0., ..., 0., 0., 0.],\n",
       "          [0., 1., 0., ..., 0., 0., 0.],\n",
       "          [0., 0., 1., ..., 0., 0., 0.],\n",
       "          ...,\n",
       "          [0., 0., 0., ..., 1., 0., 0.],\n",
       "          [0., 0., 0., ..., 0., 1., 0.],\n",
       "          [0., 0., 0., ..., 0., 0., 1.]]]),\n",
       "  'ARG': array([[[1., 0., 0., ..., 0., 0., 0.],\n",
       "          [0., 1., 0., ..., 0., 0., 0.],\n",
       "          [0., 0., 1., ..., 0., 0., 0.],\n",
       "          ...,\n",
       "          [0., 0., 0., ..., 1., 0., 0.],\n",
       "          [0., 0., 0., ..., 0., 1., 0.],\n",
       "          [0., 0., 0., ..., 0., 0., 1.]],\n",
       "  \n",
       "         [[1., 0., 0., ..., 0., 0., 0.],\n",
       "          [0., 1., 0., ..., 0., 0., 0.],\n",
       "          [0., 0., 1., ..., 0., 0., 0.],\n",
       "          ...,\n",
       "          [0., 0., 0., ..., 1., 0., 0.],\n",
       "          [0., 0., 0., ..., 0., 1., 0.],\n",
       "          [0., 0., 0., ..., 0., 0., 1.]],\n",
       "  \n",
       "         [[1., 0., 0., ..., 0., 0., 0.],\n",
       "          [0., 1., 0., ..., 0., 0., 0.],\n",
       "          [0., 0., 1., ..., 0., 0., 0.],\n",
       "          ...,\n",
       "          [0., 0., 0., ..., 1., 0., 0.],\n",
       "          [0., 0., 0., ..., 0., 1., 0.],\n",
       "          [0., 0., 0., ..., 0., 0., 1.]],\n",
       "  \n",
       "         [[1., 0., 0., ..., 0., 0., 0.],\n",
       "          [0., 1., 0., ..., 0., 0., 0.],\n",
       "          [0., 0., 1., ..., 0., 0., 0.],\n",
       "          ...,\n",
       "          [0., 0., 0., ..., 1., 0., 0.],\n",
       "          [0., 0., 0., ..., 0., 1., 0.],\n",
       "          [0., 0., 0., ..., 0., 0., 1.]],\n",
       "  \n",
       "         [[1., 0., 0., ..., 0., 0., 0.],\n",
       "          [0., 1., 0., ..., 0., 0., 0.],\n",
       "          [0., 0., 1., ..., 0., 0., 0.],\n",
       "          ...,\n",
       "          [0., 0., 0., ..., 1., 0., 0.],\n",
       "          [0., 0., 0., ..., 0., 1., 0.],\n",
       "          [0., 0., 0., ..., 0., 0., 1.]],\n",
       "  \n",
       "         [[1., 0., 0., ..., 0., 0., 0.],\n",
       "          [0., 1., 0., ..., 0., 0., 0.],\n",
       "          [0., 0., 1., ..., 0., 0., 0.],\n",
       "          ...,\n",
       "          [0., 0., 0., ..., 1., 0., 0.],\n",
       "          [0., 0., 0., ..., 0., 1., 0.],\n",
       "          [0., 0., 0., ..., 0., 0., 1.]]]),\n",
       "  'ASN': array([[[1., 0., 0., ..., 0., 0., 0.],\n",
       "          [0., 1., 0., ..., 0., 0., 0.],\n",
       "          [0., 0., 1., ..., 0., 0., 0.],\n",
       "          ...,\n",
       "          [0., 0., 0., ..., 1., 0., 0.],\n",
       "          [0., 0., 0., ..., 0., 1., 0.],\n",
       "          [0., 0., 0., ..., 0., 0., 1.]],\n",
       "  \n",
       "         [[1., 0., 0., ..., 0., 0., 0.],\n",
       "          [0., 1., 0., ..., 0., 0., 0.],\n",
       "          [0., 0., 1., ..., 0., 0., 0.],\n",
       "          ...,\n",
       "          [0., 0., 0., ..., 1., 0., 0.],\n",
       "          [0., 0., 0., ..., 0., 1., 0.],\n",
       "          [0., 0., 0., ..., 0., 0., 1.]],\n",
       "  \n",
       "         [[1., 0., 0., ..., 0., 0., 0.],\n",
       "          [0., 1., 0., ..., 0., 0., 0.],\n",
       "          [0., 0., 1., ..., 0., 0., 0.],\n",
       "          ...,\n",
       "          [0., 0., 0., ..., 1., 0., 0.],\n",
       "          [0., 0., 0., ..., 0., 1., 0.],\n",
       "          [0., 0., 0., ..., 0., 0., 1.]],\n",
       "  \n",
       "         ...,\n",
       "  \n",
       "         [[1., 0., 0., ..., 0., 0., 0.],\n",
       "          [0., 1., 0., ..., 0., 0., 0.],\n",
       "          [0., 0., 1., ..., 0., 0., 0.],\n",
       "          ...,\n",
       "          [0., 0., 0., ..., 1., 0., 0.],\n",
       "          [0., 0., 0., ..., 0., 1., 0.],\n",
       "          [0., 0., 0., ..., 0., 0., 1.]],\n",
       "  \n",
       "         [[1., 0., 0., ..., 0., 0., 0.],\n",
       "          [0., 1., 0., ..., 0., 0., 0.],\n",
       "          [0., 0., 1., ..., 0., 0., 0.],\n",
       "          ...,\n",
       "          [0., 0., 0., ..., 1., 0., 0.],\n",
       "          [0., 0., 0., ..., 0., 1., 0.],\n",
       "          [0., 0., 0., ..., 0., 0., 1.]],\n",
       "  \n",
       "         [[1., 0., 0., ..., 0., 0., 0.],\n",
       "          [0., 1., 0., ..., 0., 0., 0.],\n",
       "          [0., 0., 1., ..., 0., 0., 0.],\n",
       "          ...,\n",
       "          [0., 0., 0., ..., 1., 0., 0.],\n",
       "          [0., 0., 0., ..., 0., 1., 0.],\n",
       "          [0., 0., 0., ..., 0., 0., 1.]]]),\n",
       "  'TYR': array([[[1., 0., 0., ..., 0., 0., 0.],\n",
       "          [0., 1., 0., ..., 0., 0., 0.],\n",
       "          [0., 0., 1., ..., 0., 0., 0.],\n",
       "          ...,\n",
       "          [0., 0., 0., ..., 1., 0., 0.],\n",
       "          [0., 0., 0., ..., 0., 1., 0.],\n",
       "          [0., 0., 0., ..., 0., 0., 1.]],\n",
       "  \n",
       "         [[1., 0., 0., ..., 0., 0., 0.],\n",
       "          [0., 1., 0., ..., 0., 0., 0.],\n",
       "          [0., 0., 1., ..., 0., 0., 0.],\n",
       "          ...,\n",
       "          [0., 0., 0., ..., 1., 0., 0.],\n",
       "          [0., 0., 0., ..., 0., 1., 0.],\n",
       "          [0., 0., 0., ..., 0., 0., 1.]],\n",
       "  \n",
       "         [[1., 0., 0., ..., 0., 0., 0.],\n",
       "          [0., 1., 0., ..., 0., 0., 0.],\n",
       "          [0., 0., 1., ..., 0., 0., 0.],\n",
       "          ...,\n",
       "          [0., 0., 0., ..., 1., 0., 0.],\n",
       "          [0., 0., 0., ..., 0., 1., 0.],\n",
       "          [0., 0., 0., ..., 0., 0., 1.]],\n",
       "  \n",
       "         ...,\n",
       "  \n",
       "         [[1., 0., 0., ..., 0., 0., 0.],\n",
       "          [0., 1., 0., ..., 0., 0., 0.],\n",
       "          [0., 0., 1., ..., 0., 0., 0.],\n",
       "          ...,\n",
       "          [0., 0., 0., ..., 1., 0., 0.],\n",
       "          [0., 0., 0., ..., 0., 1., 0.],\n",
       "          [0., 0., 0., ..., 0., 0., 1.]],\n",
       "  \n",
       "         [[1., 0., 0., ..., 0., 0., 0.],\n",
       "          [0., 1., 0., ..., 0., 0., 0.],\n",
       "          [0., 0., 1., ..., 0., 0., 0.],\n",
       "          ...,\n",
       "          [0., 0., 0., ..., 1., 0., 0.],\n",
       "          [0., 0., 0., ..., 0., 1., 0.],\n",
       "          [0., 0., 0., ..., 0., 0., 1.]],\n",
       "  \n",
       "         [[1., 0., 0., ..., 0., 0., 0.],\n",
       "          [0., 1., 0., ..., 0., 0., 0.],\n",
       "          [0., 0., 1., ..., 0., 0., 0.],\n",
       "          ...,\n",
       "          [0., 0., 0., ..., 1., 0., 0.],\n",
       "          [0., 0., 0., ..., 0., 1., 0.],\n",
       "          [0., 0., 0., ..., 0., 0., 1.]]]),\n",
       "  'HIS': array([[[1., 0., 0., ..., 0., 0., 0.],\n",
       "          [0., 1., 0., ..., 0., 0., 0.],\n",
       "          [0., 0., 1., ..., 0., 0., 0.],\n",
       "          ...,\n",
       "          [0., 0., 0., ..., 1., 0., 0.],\n",
       "          [0., 0., 0., ..., 0., 1., 0.],\n",
       "          [0., 0., 0., ..., 0., 0., 1.]],\n",
       "  \n",
       "         [[1., 0., 0., ..., 0., 0., 0.],\n",
       "          [0., 1., 0., ..., 0., 0., 0.],\n",
       "          [0., 0., 1., ..., 0., 0., 0.],\n",
       "          ...,\n",
       "          [0., 0., 0., ..., 1., 0., 0.],\n",
       "          [0., 0., 0., ..., 0., 1., 0.],\n",
       "          [0., 0., 0., ..., 0., 0., 1.]],\n",
       "  \n",
       "         [[1., 0., 0., ..., 0., 0., 0.],\n",
       "          [0., 1., 0., ..., 0., 0., 0.],\n",
       "          [0., 0., 1., ..., 0., 0., 0.],\n",
       "          ...,\n",
       "          [0., 0., 0., ..., 1., 0., 0.],\n",
       "          [0., 0., 0., ..., 0., 1., 0.],\n",
       "          [0., 0., 0., ..., 0., 0., 1.]],\n",
       "  \n",
       "         ...,\n",
       "  \n",
       "         [[1., 0., 0., ..., 0., 0., 0.],\n",
       "          [0., 1., 0., ..., 0., 0., 0.],\n",
       "          [0., 0., 1., ..., 0., 0., 0.],\n",
       "          ...,\n",
       "          [0., 0., 0., ..., 1., 0., 0.],\n",
       "          [0., 0., 0., ..., 0., 1., 0.],\n",
       "          [0., 0., 0., ..., 0., 0., 1.]],\n",
       "  \n",
       "         [[1., 0., 0., ..., 0., 0., 0.],\n",
       "          [0., 1., 0., ..., 0., 0., 0.],\n",
       "          [0., 0., 1., ..., 0., 0., 0.],\n",
       "          ...,\n",
       "          [0., 0., 0., ..., 1., 0., 0.],\n",
       "          [0., 0., 0., ..., 0., 1., 0.],\n",
       "          [0., 0., 0., ..., 0., 0., 1.]],\n",
       "  \n",
       "         [[1., 0., 0., ..., 0., 0., 0.],\n",
       "          [0., 1., 0., ..., 0., 0., 0.],\n",
       "          [0., 0., 1., ..., 0., 0., 0.],\n",
       "          ...,\n",
       "          [0., 0., 0., ..., 1., 0., 0.],\n",
       "          [0., 0., 0., ..., 0., 1., 0.],\n",
       "          [0., 0., 0., ..., 0., 0., 1.]]]),\n",
       "  'ASP': array([[[1., 0., 0., ..., 0., 0., 0.],\n",
       "          [0., 1., 0., ..., 0., 0., 0.],\n",
       "          [0., 0., 1., ..., 0., 0., 0.],\n",
       "          ...,\n",
       "          [0., 0., 0., ..., 1., 0., 0.],\n",
       "          [0., 0., 0., ..., 0., 1., 0.],\n",
       "          [0., 0., 0., ..., 0., 0., 1.]],\n",
       "  \n",
       "         [[1., 0., 0., ..., 0., 0., 0.],\n",
       "          [0., 1., 0., ..., 0., 0., 0.],\n",
       "          [0., 0., 1., ..., 0., 0., 0.],\n",
       "          ...,\n",
       "          [0., 0., 0., ..., 1., 0., 0.],\n",
       "          [0., 0., 0., ..., 0., 1., 0.],\n",
       "          [0., 0., 0., ..., 0., 0., 1.]],\n",
       "  \n",
       "         [[1., 0., 0., ..., 0., 0., 0.],\n",
       "          [0., 1., 0., ..., 0., 0., 0.],\n",
       "          [0., 0., 1., ..., 0., 0., 0.],\n",
       "          ...,\n",
       "          [0., 0., 0., ..., 1., 0., 0.],\n",
       "          [0., 0., 0., ..., 0., 1., 0.],\n",
       "          [0., 0., 0., ..., 0., 0., 1.]],\n",
       "  \n",
       "         ...,\n",
       "  \n",
       "         [[1., 0., 0., ..., 0., 0., 0.],\n",
       "          [0., 1., 0., ..., 0., 0., 0.],\n",
       "          [0., 0., 1., ..., 0., 0., 0.],\n",
       "          ...,\n",
       "          [0., 0., 0., ..., 1., 0., 0.],\n",
       "          [0., 0., 0., ..., 0., 1., 0.],\n",
       "          [0., 0., 0., ..., 0., 0., 1.]],\n",
       "  \n",
       "         [[1., 0., 0., ..., 0., 0., 0.],\n",
       "          [0., 1., 0., ..., 0., 0., 0.],\n",
       "          [0., 0., 1., ..., 0., 0., 0.],\n",
       "          ...,\n",
       "          [0., 0., 0., ..., 1., 0., 0.],\n",
       "          [0., 0., 0., ..., 0., 1., 0.],\n",
       "          [0., 0., 0., ..., 0., 0., 1.]],\n",
       "  \n",
       "         [[1., 0., 0., ..., 0., 0., 0.],\n",
       "          [0., 1., 0., ..., 0., 0., 0.],\n",
       "          [0., 0., 1., ..., 0., 0., 0.],\n",
       "          ...,\n",
       "          [0., 0., 0., ..., 1., 0., 0.],\n",
       "          [0., 0., 0., ..., 0., 1., 0.],\n",
       "          [0., 0., 0., ..., 0., 0., 1.]]]),\n",
       "  'GLU': array([[[1., 0., 0., ..., 0., 0., 0.],\n",
       "          [0., 1., 0., ..., 0., 0., 0.],\n",
       "          [0., 0., 1., ..., 0., 0., 0.],\n",
       "          ...,\n",
       "          [0., 0., 0., ..., 1., 0., 0.],\n",
       "          [0., 0., 0., ..., 0., 1., 0.],\n",
       "          [0., 0., 0., ..., 0., 0., 1.]],\n",
       "  \n",
       "         [[1., 0., 0., ..., 0., 0., 0.],\n",
       "          [0., 1., 0., ..., 0., 0., 0.],\n",
       "          [0., 0., 1., ..., 0., 0., 0.],\n",
       "          ...,\n",
       "          [0., 0., 0., ..., 1., 0., 0.],\n",
       "          [0., 0., 0., ..., 0., 1., 0.],\n",
       "          [0., 0., 0., ..., 0., 0., 1.]],\n",
       "  \n",
       "         [[1., 0., 0., ..., 0., 0., 0.],\n",
       "          [0., 1., 0., ..., 0., 0., 0.],\n",
       "          [0., 0., 1., ..., 0., 0., 0.],\n",
       "          ...,\n",
       "          [0., 0., 0., ..., 1., 0., 0.],\n",
       "          [0., 0., 0., ..., 0., 1., 0.],\n",
       "          [0., 0., 0., ..., 0., 0., 1.]],\n",
       "  \n",
       "         ...,\n",
       "  \n",
       "         [[1., 0., 0., ..., 0., 0., 0.],\n",
       "          [0., 1., 0., ..., 0., 0., 0.],\n",
       "          [0., 0., 1., ..., 0., 0., 0.],\n",
       "          ...,\n",
       "          [0., 0., 0., ..., 1., 0., 0.],\n",
       "          [0., 0., 0., ..., 0., 1., 0.],\n",
       "          [0., 0., 0., ..., 0., 0., 1.]],\n",
       "  \n",
       "         [[1., 0., 0., ..., 0., 0., 0.],\n",
       "          [0., 1., 0., ..., 0., 0., 0.],\n",
       "          [0., 0., 1., ..., 0., 0., 0.],\n",
       "          ...,\n",
       "          [0., 0., 0., ..., 1., 0., 0.],\n",
       "          [0., 0., 0., ..., 0., 1., 0.],\n",
       "          [0., 0., 0., ..., 0., 0., 1.]],\n",
       "  \n",
       "         [[1., 0., 0., ..., 0., 0., 0.],\n",
       "          [0., 1., 0., ..., 0., 0., 0.],\n",
       "          [0., 0., 1., ..., 0., 0., 0.],\n",
       "          ...,\n",
       "          [0., 0., 0., ..., 1., 0., 0.],\n",
       "          [0., 0., 0., ..., 0., 1., 0.],\n",
       "          [0., 0., 0., ..., 0., 0., 1.]]]),\n",
       "  'ALA': array([[[1., 0., 0., ..., 0., 0., 0.],\n",
       "          [0., 1., 0., ..., 0., 0., 0.],\n",
       "          [0., 0., 1., ..., 0., 0., 0.],\n",
       "          ...,\n",
       "          [0., 0., 0., ..., 1., 0., 0.],\n",
       "          [0., 0., 0., ..., 0., 1., 0.],\n",
       "          [0., 0., 0., ..., 0., 0., 1.]],\n",
       "  \n",
       "         [[1., 0., 0., ..., 0., 0., 0.],\n",
       "          [0., 1., 0., ..., 0., 0., 0.],\n",
       "          [0., 0., 1., ..., 0., 0., 0.],\n",
       "          ...,\n",
       "          [0., 0., 0., ..., 1., 0., 0.],\n",
       "          [0., 0., 0., ..., 0., 1., 0.],\n",
       "          [0., 0., 0., ..., 0., 0., 1.]],\n",
       "  \n",
       "         [[1., 0., 0., ..., 0., 0., 0.],\n",
       "          [0., 1., 0., ..., 0., 0., 0.],\n",
       "          [0., 0., 1., ..., 0., 0., 0.],\n",
       "          ...,\n",
       "          [0., 0., 0., ..., 1., 0., 0.],\n",
       "          [0., 0., 0., ..., 0., 1., 0.],\n",
       "          [0., 0., 0., ..., 0., 0., 1.]],\n",
       "  \n",
       "         ...,\n",
       "  \n",
       "         [[1., 0., 0., ..., 0., 0., 0.],\n",
       "          [0., 1., 0., ..., 0., 0., 0.],\n",
       "          [0., 0., 1., ..., 0., 0., 0.],\n",
       "          ...,\n",
       "          [0., 0., 0., ..., 1., 0., 0.],\n",
       "          [0., 0., 0., ..., 0., 1., 0.],\n",
       "          [0., 0., 0., ..., 0., 0., 1.]],\n",
       "  \n",
       "         [[1., 0., 0., ..., 0., 0., 0.],\n",
       "          [0., 1., 0., ..., 0., 0., 0.],\n",
       "          [0., 0., 1., ..., 0., 0., 0.],\n",
       "          ...,\n",
       "          [0., 0., 0., ..., 1., 0., 0.],\n",
       "          [0., 0., 0., ..., 0., 1., 0.],\n",
       "          [0., 0., 0., ..., 0., 0., 1.]],\n",
       "  \n",
       "         [[1., 0., 0., ..., 0., 0., 0.],\n",
       "          [0., 1., 0., ..., 0., 0., 0.],\n",
       "          [0., 0., 1., ..., 0., 0., 0.],\n",
       "          ...,\n",
       "          [0., 0., 0., ..., 1., 0., 0.],\n",
       "          [0., 0., 0., ..., 0., 1., 0.],\n",
       "          [0., 0., 0., ..., 0., 0., 1.]]]),\n",
       "  'ILE': array([[[1., 0., 0., ..., 0., 0., 0.],\n",
       "          [0., 1., 0., ..., 0., 0., 0.],\n",
       "          [0., 0., 1., ..., 0., 0., 0.],\n",
       "          ...,\n",
       "          [0., 0., 0., ..., 1., 0., 0.],\n",
       "          [0., 0., 0., ..., 0., 1., 0.],\n",
       "          [0., 0., 0., ..., 0., 0., 1.]],\n",
       "  \n",
       "         [[1., 0., 0., ..., 0., 0., 0.],\n",
       "          [0., 1., 0., ..., 0., 0., 0.],\n",
       "          [0., 0., 1., ..., 0., 0., 0.],\n",
       "          ...,\n",
       "          [0., 0., 0., ..., 1., 0., 0.],\n",
       "          [0., 0., 0., ..., 0., 1., 0.],\n",
       "          [0., 0., 0., ..., 0., 0., 1.]],\n",
       "  \n",
       "         [[1., 0., 0., ..., 0., 0., 0.],\n",
       "          [0., 1., 0., ..., 0., 0., 0.],\n",
       "          [0., 0., 1., ..., 0., 0., 0.],\n",
       "          ...,\n",
       "          [0., 0., 0., ..., 1., 0., 0.],\n",
       "          [0., 0., 0., ..., 0., 1., 0.],\n",
       "          [0., 0., 0., ..., 0., 0., 1.]],\n",
       "  \n",
       "         [[1., 0., 0., ..., 0., 0., 0.],\n",
       "          [0., 1., 0., ..., 0., 0., 0.],\n",
       "          [0., 0., 1., ..., 0., 0., 0.],\n",
       "          ...,\n",
       "          [0., 0., 0., ..., 1., 0., 0.],\n",
       "          [0., 0., 0., ..., 0., 1., 0.],\n",
       "          [0., 0., 0., ..., 0., 0., 1.]],\n",
       "  \n",
       "         [[1., 0., 0., ..., 0., 0., 0.],\n",
       "          [0., 1., 0., ..., 0., 0., 0.],\n",
       "          [0., 0., 1., ..., 0., 0., 0.],\n",
       "          ...,\n",
       "          [0., 0., 0., ..., 1., 0., 0.],\n",
       "          [0., 0., 0., ..., 0., 1., 0.],\n",
       "          [0., 0., 0., ..., 0., 0., 1.]]]),\n",
       "  'LEU': array([[[1., 0., 0., ..., 0., 0., 0.],\n",
       "          [0., 1., 0., ..., 0., 0., 0.],\n",
       "          [0., 0., 1., ..., 0., 0., 0.],\n",
       "          ...,\n",
       "          [0., 0., 0., ..., 1., 0., 0.],\n",
       "          [0., 0., 0., ..., 0., 1., 0.],\n",
       "          [0., 0., 0., ..., 0., 0., 1.]],\n",
       "  \n",
       "         [[1., 0., 0., ..., 0., 0., 0.],\n",
       "          [0., 1., 0., ..., 0., 0., 0.],\n",
       "          [0., 0., 1., ..., 0., 0., 0.],\n",
       "          ...,\n",
       "          [0., 0., 0., ..., 1., 0., 0.],\n",
       "          [0., 0., 0., ..., 0., 1., 0.],\n",
       "          [0., 0., 0., ..., 0., 0., 1.]],\n",
       "  \n",
       "         [[1., 0., 0., ..., 0., 0., 0.],\n",
       "          [0., 1., 0., ..., 0., 0., 0.],\n",
       "          [0., 0., 1., ..., 0., 0., 0.],\n",
       "          ...,\n",
       "          [0., 0., 0., ..., 1., 0., 0.],\n",
       "          [0., 0., 0., ..., 0., 1., 0.],\n",
       "          [0., 0., 0., ..., 0., 0., 1.]],\n",
       "  \n",
       "         ...,\n",
       "  \n",
       "         [[1., 0., 0., ..., 0., 0., 0.],\n",
       "          [0., 1., 0., ..., 0., 0., 0.],\n",
       "          [0., 0., 1., ..., 0., 0., 0.],\n",
       "          ...,\n",
       "          [0., 0., 0., ..., 1., 0., 0.],\n",
       "          [0., 0., 0., ..., 0., 1., 0.],\n",
       "          [0., 0., 0., ..., 0., 0., 1.]],\n",
       "  \n",
       "         [[1., 0., 0., ..., 0., 0., 0.],\n",
       "          [0., 1., 0., ..., 0., 0., 0.],\n",
       "          [0., 0., 1., ..., 0., 0., 0.],\n",
       "          ...,\n",
       "          [0., 0., 0., ..., 1., 0., 0.],\n",
       "          [0., 0., 0., ..., 0., 1., 0.],\n",
       "          [0., 0., 0., ..., 0., 0., 1.]],\n",
       "  \n",
       "         [[1., 0., 0., ..., 0., 0., 0.],\n",
       "          [0., 1., 0., ..., 0., 0., 0.],\n",
       "          [0., 0., 1., ..., 0., 0., 0.],\n",
       "          ...,\n",
       "          [0., 0., 0., ..., 1., 0., 0.],\n",
       "          [0., 0., 0., ..., 0., 1., 0.],\n",
       "          [0., 0., 0., ..., 0., 0., 1.]]]),\n",
       "  'MET': array([[[1., 0., 0., ..., 0., 0., 0.],\n",
       "          [0., 1., 0., ..., 0., 0., 0.],\n",
       "          [0., 0., 1., ..., 0., 0., 0.],\n",
       "          ...,\n",
       "          [0., 0., 0., ..., 1., 0., 0.],\n",
       "          [0., 0., 0., ..., 0., 1., 0.],\n",
       "          [0., 0., 0., ..., 0., 0., 1.]],\n",
       "  \n",
       "         [[1., 0., 0., ..., 0., 0., 0.],\n",
       "          [0., 1., 0., ..., 0., 0., 0.],\n",
       "          [0., 0., 1., ..., 0., 0., 0.],\n",
       "          ...,\n",
       "          [0., 0., 0., ..., 1., 0., 0.],\n",
       "          [0., 0., 0., ..., 0., 1., 0.],\n",
       "          [0., 0., 0., ..., 0., 0., 1.]],\n",
       "  \n",
       "         [[1., 0., 0., ..., 0., 0., 0.],\n",
       "          [0., 1., 0., ..., 0., 0., 0.],\n",
       "          [0., 0., 1., ..., 0., 0., 0.],\n",
       "          ...,\n",
       "          [0., 0., 0., ..., 1., 0., 0.],\n",
       "          [0., 0., 0., ..., 0., 1., 0.],\n",
       "          [0., 0., 0., ..., 0., 0., 1.]],\n",
       "  \n",
       "         [[1., 0., 0., ..., 0., 0., 0.],\n",
       "          [0., 1., 0., ..., 0., 0., 0.],\n",
       "          [0., 0., 1., ..., 0., 0., 0.],\n",
       "          ...,\n",
       "          [0., 0., 0., ..., 1., 0., 0.],\n",
       "          [0., 0., 0., ..., 0., 1., 0.],\n",
       "          [0., 0., 0., ..., 0., 0., 1.]]]),\n",
       "  'PHE': array([[[1., 0., 0., ..., 0., 0., 0.],\n",
       "          [0., 1., 0., ..., 0., 0., 0.],\n",
       "          [0., 0., 1., ..., 0., 0., 0.],\n",
       "          ...,\n",
       "          [0., 0., 0., ..., 1., 0., 0.],\n",
       "          [0., 0., 0., ..., 0., 1., 0.],\n",
       "          [0., 0., 0., ..., 0., 0., 1.]],\n",
       "  \n",
       "         [[1., 0., 0., ..., 0., 0., 0.],\n",
       "          [0., 1., 0., ..., 0., 0., 0.],\n",
       "          [0., 0., 1., ..., 0., 0., 0.],\n",
       "          ...,\n",
       "          [0., 0., 0., ..., 1., 0., 0.],\n",
       "          [0., 0., 0., ..., 0., 1., 0.],\n",
       "          [0., 0., 0., ..., 0., 0., 1.]],\n",
       "  \n",
       "         [[1., 0., 0., ..., 0., 0., 0.],\n",
       "          [0., 1., 0., ..., 0., 0., 0.],\n",
       "          [0., 0., 1., ..., 0., 0., 0.],\n",
       "          ...,\n",
       "          [0., 0., 0., ..., 1., 0., 0.],\n",
       "          [0., 0., 0., ..., 0., 1., 0.],\n",
       "          [0., 0., 0., ..., 0., 0., 1.]],\n",
       "  \n",
       "         [[1., 0., 0., ..., 0., 0., 0.],\n",
       "          [0., 1., 0., ..., 0., 0., 0.],\n",
       "          [0., 0., 1., ..., 0., 0., 0.],\n",
       "          ...,\n",
       "          [0., 0., 0., ..., 1., 0., 0.],\n",
       "          [0., 0., 0., ..., 0., 1., 0.],\n",
       "          [0., 0., 0., ..., 0., 0., 1.]],\n",
       "  \n",
       "         [[1., 0., 0., ..., 0., 0., 0.],\n",
       "          [0., 1., 0., ..., 0., 0., 0.],\n",
       "          [0., 0., 1., ..., 0., 0., 0.],\n",
       "          ...,\n",
       "          [0., 0., 0., ..., 1., 0., 0.],\n",
       "          [0., 0., 0., ..., 0., 1., 0.],\n",
       "          [0., 0., 0., ..., 0., 0., 1.]]]),\n",
       "  'LYS': array([[[1., 0., 0., ..., 0., 0., 0.],\n",
       "          [0., 1., 0., ..., 0., 0., 0.],\n",
       "          [0., 0., 1., ..., 0., 0., 0.],\n",
       "          ...,\n",
       "          [0., 0., 0., ..., 1., 0., 0.],\n",
       "          [0., 0., 0., ..., 0., 1., 0.],\n",
       "          [0., 0., 0., ..., 0., 0., 1.]],\n",
       "  \n",
       "         [[1., 0., 0., ..., 0., 0., 0.],\n",
       "          [0., 1., 0., ..., 0., 0., 0.],\n",
       "          [0., 0., 1., ..., 0., 0., 0.],\n",
       "          ...,\n",
       "          [0., 0., 0., ..., 1., 0., 0.],\n",
       "          [0., 0., 0., ..., 0., 1., 0.],\n",
       "          [0., 0., 0., ..., 0., 0., 1.]],\n",
       "  \n",
       "         [[1., 0., 0., ..., 0., 0., 0.],\n",
       "          [0., 1., 0., ..., 0., 0., 0.],\n",
       "          [0., 0., 1., ..., 0., 0., 0.],\n",
       "          ...,\n",
       "          [0., 0., 0., ..., 1., 0., 0.],\n",
       "          [0., 0., 0., ..., 0., 1., 0.],\n",
       "          [0., 0., 0., ..., 0., 0., 1.]],\n",
       "  \n",
       "         ...,\n",
       "  \n",
       "         [[1., 0., 0., ..., 0., 0., 0.],\n",
       "          [0., 1., 0., ..., 0., 0., 0.],\n",
       "          [0., 0., 1., ..., 0., 0., 0.],\n",
       "          ...,\n",
       "          [0., 0., 0., ..., 1., 0., 0.],\n",
       "          [0., 0., 0., ..., 0., 1., 0.],\n",
       "          [0., 0., 0., ..., 0., 0., 1.]],\n",
       "  \n",
       "         [[1., 0., 0., ..., 0., 0., 0.],\n",
       "          [0., 1., 0., ..., 0., 0., 0.],\n",
       "          [0., 0., 1., ..., 0., 0., 0.],\n",
       "          ...,\n",
       "          [0., 0., 0., ..., 1., 0., 0.],\n",
       "          [0., 0., 0., ..., 0., 1., 0.],\n",
       "          [0., 0., 0., ..., 0., 0., 1.]],\n",
       "  \n",
       "         [[1., 0., 0., ..., 0., 0., 0.],\n",
       "          [0., 1., 0., ..., 0., 0., 0.],\n",
       "          [0., 0., 1., ..., 0., 0., 0.],\n",
       "          ...,\n",
       "          [0., 0., 0., ..., 1., 0., 0.],\n",
       "          [0., 0., 0., ..., 0., 1., 0.],\n",
       "          [0., 0., 0., ..., 0., 0., 1.]]]),\n",
       "  'GLY': array([[[1., 0., 0., ..., 0., 0., 0.],\n",
       "          [0., 1., 0., ..., 0., 0., 0.],\n",
       "          [0., 0., 1., ..., 0., 0., 0.],\n",
       "          ...,\n",
       "          [0., 0., 0., ..., 1., 0., 0.],\n",
       "          [0., 0., 0., ..., 0., 1., 0.],\n",
       "          [0., 0., 0., ..., 0., 0., 1.]],\n",
       "  \n",
       "         [[1., 0., 0., ..., 0., 0., 0.],\n",
       "          [0., 1., 0., ..., 0., 0., 0.],\n",
       "          [0., 0., 1., ..., 0., 0., 0.],\n",
       "          ...,\n",
       "          [0., 0., 0., ..., 1., 0., 0.],\n",
       "          [0., 0., 0., ..., 0., 1., 0.],\n",
       "          [0., 0., 0., ..., 0., 0., 1.]],\n",
       "  \n",
       "         [[1., 0., 0., ..., 0., 0., 0.],\n",
       "          [0., 1., 0., ..., 0., 0., 0.],\n",
       "          [0., 0., 1., ..., 0., 0., 0.],\n",
       "          ...,\n",
       "          [0., 0., 0., ..., 1., 0., 0.],\n",
       "          [0., 0., 0., ..., 0., 1., 0.],\n",
       "          [0., 0., 0., ..., 0., 0., 1.]],\n",
       "  \n",
       "         [[1., 0., 0., ..., 0., 0., 0.],\n",
       "          [0., 1., 0., ..., 0., 0., 0.],\n",
       "          [0., 0., 1., ..., 0., 0., 0.],\n",
       "          ...,\n",
       "          [0., 0., 0., ..., 1., 0., 0.],\n",
       "          [0., 0., 0., ..., 0., 1., 0.],\n",
       "          [0., 0., 0., ..., 0., 0., 1.]],\n",
       "  \n",
       "         [[1., 0., 0., ..., 0., 0., 0.],\n",
       "          [0., 1., 0., ..., 0., 0., 0.],\n",
       "          [0., 0., 1., ..., 0., 0., 0.],\n",
       "          ...,\n",
       "          [0., 0., 0., ..., 1., 0., 0.],\n",
       "          [0., 0., 0., ..., 0., 1., 0.],\n",
       "          [0., 0., 0., ..., 0., 0., 1.]],\n",
       "  \n",
       "         [[1., 0., 0., ..., 0., 0., 0.],\n",
       "          [0., 1., 0., ..., 0., 0., 0.],\n",
       "          [0., 0., 1., ..., 0., 0., 0.],\n",
       "          ...,\n",
       "          [0., 0., 0., ..., 1., 0., 0.],\n",
       "          [0., 0., 0., ..., 0., 1., 0.],\n",
       "          [0., 0., 0., ..., 0., 0., 1.]]]),\n",
       "  'PRO': array([[[1., 0., 0., ..., 0., 0., 0.],\n",
       "          [0., 1., 0., ..., 0., 0., 0.],\n",
       "          [0., 0., 1., ..., 0., 0., 0.],\n",
       "          ...,\n",
       "          [0., 0., 0., ..., 1., 0., 0.],\n",
       "          [0., 0., 0., ..., 0., 1., 0.],\n",
       "          [0., 0., 0., ..., 0., 0., 1.]],\n",
       "  \n",
       "         [[1., 0., 0., ..., 0., 0., 0.],\n",
       "          [0., 1., 0., ..., 0., 0., 0.],\n",
       "          [0., 0., 1., ..., 0., 0., 0.],\n",
       "          ...,\n",
       "          [0., 0., 0., ..., 1., 0., 0.],\n",
       "          [0., 0., 0., ..., 0., 1., 0.],\n",
       "          [0., 0., 0., ..., 0., 0., 1.]],\n",
       "  \n",
       "         [[1., 0., 0., ..., 0., 0., 0.],\n",
       "          [0., 1., 0., ..., 0., 0., 0.],\n",
       "          [0., 0., 1., ..., 0., 0., 0.],\n",
       "          ...,\n",
       "          [0., 0., 0., ..., 1., 0., 0.],\n",
       "          [0., 0., 0., ..., 0., 1., 0.],\n",
       "          [0., 0., 0., ..., 0., 0., 1.]]]),\n",
       "  'TRP': array([[[1., 0., 0., ..., 0., 0., 0.],\n",
       "          [0., 1., 0., ..., 0., 0., 0.],\n",
       "          [0., 0., 1., ..., 0., 0., 0.],\n",
       "          ...,\n",
       "          [0., 0., 0., ..., 1., 0., 0.],\n",
       "          [0., 0., 0., ..., 0., 1., 0.],\n",
       "          [0., 0., 0., ..., 0., 0., 1.]]]),\n",
       "  'CYS': array([[[1., 0., 0., ..., 0., 0., 0.],\n",
       "          [0., 1., 0., ..., 0., 0., 0.],\n",
       "          [0., 0., 1., ..., 0., 0., 0.],\n",
       "          ...,\n",
       "          [0., 0., 0., ..., 1., 0., 0.],\n",
       "          [0., 0., 0., ..., 0., 1., 0.],\n",
       "          [0., 0., 0., ..., 0., 0., 1.]],\n",
       "  \n",
       "         [[1., 0., 0., ..., 0., 0., 0.],\n",
       "          [0., 1., 0., ..., 0., 0., 0.],\n",
       "          [0., 0., 1., ..., 0., 0., 0.],\n",
       "          ...,\n",
       "          [0., 0., 0., ..., 1., 0., 0.],\n",
       "          [0., 0., 0., ..., 0., 1., 0.],\n",
       "          [0., 0., 0., ..., 0., 0., 1.]]])},\n",
       " {'SER': array([[1., 0.],\n",
       "         [0., 1.]]),\n",
       "  'THR': array([[1., 0.],\n",
       "         [0., 1.]]),\n",
       "  'GLN': array([[1., 0.],\n",
       "         [0., 1.]]),\n",
       "  'VAL': array([[1., 0.],\n",
       "         [0., 1.]]),\n",
       "  'ARG': array([[1., 0.],\n",
       "         [0., 1.]]),\n",
       "  'ASN': array([[1., 0.],\n",
       "         [0., 1.]]),\n",
       "  'TYR': array([[1., 0.],\n",
       "         [0., 1.]]),\n",
       "  'HIS': array([[1., 0.],\n",
       "         [0., 1.]]),\n",
       "  'ASP': array([[1., 0.],\n",
       "         [0., 1.]]),\n",
       "  'GLU': array([[1., 0.],\n",
       "         [0., 1.]]),\n",
       "  'ALA': array([[1., 0.],\n",
       "         [0., 1.]]),\n",
       "  'ILE': array([[1., 0.],\n",
       "         [0., 1.]]),\n",
       "  'LEU': array([[1., 0.],\n",
       "         [0., 1.]]),\n",
       "  'MET': array([[1., 0.],\n",
       "         [0., 1.]]),\n",
       "  'PHE': array([[1., 0.],\n",
       "         [0., 1.]]),\n",
       "  'LYS': array([[1., 0.],\n",
       "         [0., 1.]]),\n",
       "  'GLY': array([[1., 0.],\n",
       "         [0., 1.]]),\n",
       "  'PRO': array([[1., 0.],\n",
       "         [0., 1.]]),\n",
       "  'TRP': array([[1., 0.],\n",
       "         [0., 1.]]),\n",
       "  'CYS': array([[1., 0.],\n",
       "         [0., 1.]])})"
      ]
     },
     "execution_count": 6,
     "metadata": {},
     "output_type": "execute_result"
    }
   ],
   "source": [
    "wqeb.paramters_initial()"
   ]
  },
  {
   "cell_type": "code",
   "execution_count": 7,
   "metadata": {},
   "outputs": [
    {
     "data": {
      "application/vnd.jupyter.widget-view+json": {
       "model_id": "35e6e0da895b46e7833c8be2bf8725f0",
       "version_major": 2,
       "version_minor": 0
      },
      "text/plain": [
       "  0%|          | 0/20 [00:00<?, ?it/s]"
      ]
     },
     "metadata": {},
     "output_type": "display_data"
    },
    {
     "name": "stderr",
     "output_type": "stream",
     "text": [
      "/Users/zhengshucheng/Desktop/中研院/QEB/QEB/caculation.py:157: RuntimeWarning: divide by zero encountered in log\n",
      "  third = a * np.log(b)\n",
      "/Users/zhengshucheng/Desktop/中研院/QEB/QEB/caculation.py:157: RuntimeWarning: invalid value encountered in double_scalars\n",
      "  third = a * np.log(b)\n",
      "/Users/zhengshucheng/Desktop/中研院/QEB/QEB/weighted_model.py:192: RuntimeWarning: divide by zero encountered in double_scalars\n",
      "  return sum(v / 2 * (1 / s - (grid_num + v) / (v * s + 2 * (bs_tilde_all[name] - v * s / 2)))), \\\n",
      "/Users/zhengshucheng/Desktop/中研院/QEB/QEB/weighted_model.py:192: RuntimeWarning: invalid value encountered in multiply\n",
      "  return sum(v / 2 * (1 / s - (grid_num + v) / (v * s + 2 * (bs_tilde_all[name] - v * s / 2)))), \\\n",
      "/Users/zhengshucheng/Desktop/中研院/QEB/QEB/weighted_model.py:193: RuntimeWarning: divide by zero encountered in log\n",
      "  sum(1 / 2 * np.log(v * s / 2) + 1 / 2 - digamma(v / 2) + digamma((v + grid_num) / 2) - \\\n",
      "/Users/zhengshucheng/Desktop/中研院/QEB/QEB/weighted_model.py:193: RuntimeWarning: invalid value encountered in double_scalars\n",
      "  sum(1 / 2 * np.log(v * s / 2) + 1 / 2 - digamma(v / 2) + digamma((v + grid_num) / 2) - \\\n",
      "INFO:root:[Minimize res] v: 1.0 s: 1.0\n"
     ]
    },
    {
     "name": "stdout",
     "output_type": "stream",
     "text": [
      "True\n",
      "[[ 176.13432917 -159.06160654]\n",
      " [-159.06160654  158.66187732]]\n"
     ]
    },
    {
     "name": "stderr",
     "output_type": "stream",
     "text": [
      "INFO:root:[Minimize res] v: 1.0 s: 1.0\n",
      "INFO:root:[Minimize res] v: 1.0 s: 1.0\n",
      "INFO:root:[Minimize res] v: 1.0 s: 1.0\n",
      "INFO:root:[Minimize res] v: 1.0 s: 1.0\n",
      "INFO:root:[Minimize res] v: 1.0 s: 1.0\n"
     ]
    },
    {
     "name": "stdout",
     "output_type": "stream",
     "text": [
      "True\n",
      "[[ 175.57663343 -140.86318457]\n",
      " [-140.86318457  175.5927584 ]]\n",
      "True\n",
      "[[ 170.06989961 -148.81193678]\n",
      " [-148.81193678  165.80958005]]\n",
      "True\n",
      "[[ 170.88354602 -146.90777179]\n",
      " [-146.90777179  168.38399062]]\n",
      "True\n",
      "[[ 172.19430243 -146.30544336]\n",
      " [-146.30544336  168.84368177]]\n"
     ]
    },
    {
     "name": "stderr",
     "output_type": "stream",
     "text": [
      "INFO:root:[Minimize res] v: 1.8997295735639421 s: 0.5635521858750498\n",
      "INFO:root:[Minimize res] v: 1.0 s: 1.0\n",
      "INFO:root:[Minimize res] v: 1.8997295735639421 s: 0.5635521858750498\n",
      "INFO:root:[Minimize res] v: 1.8997295735639421 s: 0.5635521858750498\n"
     ]
    },
    {
     "name": "stdout",
     "output_type": "stream",
     "text": [
      "True\n",
      "[[ 53.03303034 -51.80208371]\n",
      " [-51.80208371  51.79526295]]\n",
      "True\n",
      "[[ 53.08971115 -50.604181  ]\n",
      " [-50.604181    53.01732191]]\n",
      "True\n",
      "[[ 53.04195526 -50.60863354]\n",
      " [-50.60863354  52.92865642]]\n",
      "True\n",
      "[[ 53.02692621 -50.57565064]\n",
      " [-50.57565064  52.8917119 ]]\n",
      "True\n",
      "[[ 53.05338718 -50.60062414]\n",
      " [-50.60062414  52.94201637]]\n"
     ]
    },
    {
     "name": "stderr",
     "output_type": "stream",
     "text": [
      "INFO:root:[Minimize res] v: 1.0 s: 1.0\n",
      "INFO:root:[Minimize res] v: 59.76907840090601 s: 0.6649612878925535\n"
     ]
    },
    {
     "name": "stdout",
     "output_type": "stream",
     "text": [
      "True\n",
      "[[ 88.35298064 -88.10817332]\n",
      " [-88.10817332  88.12037589]]\n",
      "True\n",
      "[[ 88.2558934  -87.7603111 ]\n",
      " [-87.7603111   88.30061221]]\n"
     ]
    },
    {
     "name": "stderr",
     "output_type": "stream",
     "text": [
      "INFO:root:[Minimize res] v: 1.0 s: 1.0\n",
      "INFO:root:[Minimize res] v: 5.999918750322984 s: 0.9714957868264911\n"
     ]
    },
    {
     "name": "stdout",
     "output_type": "stream",
     "text": [
      "True\n",
      "[[ 88.35615613 -87.87208686]\n",
      " [-87.87208686  88.35332236]]\n",
      "True\n",
      "[[ 88.29778388 -87.80500554]\n",
      " [-87.80500554  88.32514462]]\n"
     ]
    },
    {
     "name": "stderr",
     "output_type": "stream",
     "text": [
      "INFO:root:[Minimize res] v: 1.0 s: 1.0\n",
      "INFO:root:[Minimize res] v: 1.0 s: 1.0\n",
      "INFO:root:[Minimize res] v: 50.68517387616744 s: 0.5926258124757846\n"
     ]
    },
    {
     "name": "stdout",
     "output_type": "stream",
     "text": [
      "True\n",
      "[[ 88.3556594  -87.8710667 ]\n",
      " [-87.8710667   88.35297243]]\n",
      "True\n",
      "[[ 9.23194122 -9.12852185]\n",
      " [-9.12852185  9.13360956]]\n"
     ]
    },
    {
     "name": "stderr",
     "output_type": "stream",
     "text": [
      "INFO:root:[Minimize res] v: 1.0 s: 1.0\n",
      "INFO:root:[Minimize res] v: 2.1627719934727363 s: 0.9904663049525105\n"
     ]
    },
    {
     "name": "stdout",
     "output_type": "stream",
     "text": [
      "True\n",
      "[[ 9.00619439 -8.71961576]\n",
      " [-8.71961576  9.3847239 ]]\n",
      "True\n",
      "[[ 9.23090517 -9.03575485]\n",
      " [-9.03575485  9.21879092]]\n",
      "True\n",
      "[[ 9.08976191 -8.82533727]\n",
      " [-8.82533727  9.34039416]]\n"
     ]
    },
    {
     "name": "stderr",
     "output_type": "stream",
     "text": [
      "INFO:root:[Minimize res] v: 1.0 s: 1.0\n",
      "INFO:root:[Minimize res] v: 1.0 s: 1.0\n",
      "INFO:root:[Minimize res] v: 18.170408893151844 s: 0.9386074831123822\n"
     ]
    },
    {
     "name": "stdout",
     "output_type": "stream",
     "text": [
      "True\n",
      "[[ 9.22832201 -9.03082251]\n",
      " [-9.03082251  9.22014148]]\n",
      "True\n",
      "[[ 53.07876929 -53.06339505]\n",
      " [-53.06339505  53.06607843]]\n",
      "True\n",
      "[[ 53.08485285 -53.05808657]\n",
      " [-53.05808657  53.13624336]]\n"
     ]
    },
    {
     "name": "stderr",
     "output_type": "stream",
     "text": [
      "INFO:root:[Minimize res] v: 1.0 s: 1.0\n",
      "INFO:root:[Minimize res] v: 5.999968040097452 s: 0.9821226958397211\n",
      "INFO:root:[Minimize res] v: 1.0 s: 1.0\n"
     ]
    },
    {
     "name": "stdout",
     "output_type": "stream",
     "text": [
      "True\n",
      "[[ 53.0788284  -53.04409494]\n",
      " [-53.04409494  53.07864689]]\n",
      "True\n",
      "[[ 53.08741215 -53.05855397]\n",
      " [-53.05855397  53.11400584]]\n",
      "True\n",
      "[[ 53.07857138 -53.04385634]\n",
      " [-53.04385634  53.0783494 ]]\n"
     ]
    },
    {
     "name": "stderr",
     "output_type": "stream",
     "text": [
      "INFO:root:[Minimize res] v: 1.0 s: 1.0\n"
     ]
    },
    {
     "name": "stdout",
     "output_type": "stream",
     "text": [
      "True\n",
      "[[ 119.75807676 -119.38637053]\n",
      " [-119.38637053  119.40956741]]\n"
     ]
    },
    {
     "name": "stderr",
     "output_type": "stream",
     "text": [
      "INFO:root:[Minimize res] v: 38.7957568072973 s: 0.6445106545383329\n"
     ]
    },
    {
     "name": "stdout",
     "output_type": "stream",
     "text": [
      "True\n",
      "[[ 119.98895119 -119.23775573]\n",
      " [-119.23775573  120.05048349]]\n"
     ]
    },
    {
     "name": "stderr",
     "output_type": "stream",
     "text": [
      "INFO:root:[Minimize res] v: 1.0 s: 1.0\n"
     ]
    },
    {
     "name": "stdout",
     "output_type": "stream",
     "text": [
      "True\n",
      "[[ 119.76477557 -119.03232482]\n",
      " [-119.03232482  119.75992843]]\n"
     ]
    },
    {
     "name": "stderr",
     "output_type": "stream",
     "text": [
      "INFO:root:[Minimize res] v: 5.999778854411121 s: 0.9529744007648887\n"
     ]
    },
    {
     "name": "stdout",
     "output_type": "stream",
     "text": [
      "True\n",
      "[[ 119.8866146  -119.13980033]\n",
      " [-119.13980033  119.92323991]]\n"
     ]
    },
    {
     "name": "stderr",
     "output_type": "stream",
     "text": [
      "INFO:root:[Minimize res] v: 1.0 s: 1.0\n"
     ]
    },
    {
     "name": "stdout",
     "output_type": "stream",
     "text": [
      "True\n",
      "[[ 119.76680765 -119.03323438]\n",
      " [-119.03323438  119.76212957]]\n"
     ]
    },
    {
     "name": "stderr",
     "output_type": "stream",
     "text": [
      "INFO:root:[Minimize res] v: 1.0000000000000002 s: 1.0\n",
      "INFO:root:[Minimize res] v: 2.931455271683574 s: 0.9846047484964653\n"
     ]
    },
    {
     "name": "stdout",
     "output_type": "stream",
     "text": [
      "True\n",
      "[[ 27.44886936 -27.22908912]\n",
      " [-27.22908912  27.24580883]]\n",
      "True\n",
      "[[ 27.27006786 -26.73787312]\n",
      " [-26.73787312  27.61616415]]\n"
     ]
    },
    {
     "name": "stderr",
     "output_type": "stream",
     "text": [
      "INFO:root:[Minimize res] v: 1.0 s: 1.0\n",
      "INFO:root:[Minimize res] v: 1.1823489377727432 s: 0.9985465323481363\n"
     ]
    },
    {
     "name": "stdout",
     "output_type": "stream",
     "text": [
      "True\n",
      "[[ 27.44814962 -27.0358401 ]\n",
      " [-27.0358401   27.4377252 ]]\n",
      "True\n",
      "[[ 27.37067791 -26.8770761 ]\n",
      " [-26.8770761   27.57736916]]\n"
     ]
    },
    {
     "name": "stderr",
     "output_type": "stream",
     "text": [
      "INFO:root:[Minimize res] v: 1.0 s: 1.0\n",
      "INFO:root:[Minimize res] v: 1.0 s: 1.0\n",
      "INFO:root:[Minimize res] v: 5.999955677307178 s: 0.9789470913239816\n"
     ]
    },
    {
     "name": "stdout",
     "output_type": "stream",
     "text": [
      "True\n",
      "[[ 27.44475661 -27.02959418]\n",
      " [-27.02959418  27.43865447]]\n",
      "True\n",
      "[[ 39.89598318 -39.77224388]\n",
      " [-39.77224388  39.78277209]]\n"
     ]
    },
    {
     "name": "stderr",
     "output_type": "stream",
     "text": [
      "INFO:root:[Minimize res] v: 1.0 s: 1.0\n",
      "INFO:root:[Minimize res] v: 1.9999911354614357 s: 0.9957894182647963\n"
     ]
    },
    {
     "name": "stdout",
     "output_type": "stream",
     "text": [
      "True\n",
      "[[ 39.56344893 -39.30811285]\n",
      " [-39.30811285  39.74337932]]\n",
      "True\n",
      "[[ 39.8946969  -39.65321558]\n",
      " [-39.65321558  39.89223452]]\n"
     ]
    },
    {
     "name": "stderr",
     "output_type": "stream",
     "text": [
      "INFO:root:[Minimize res] v: 1.0 s: 1.0\n"
     ]
    },
    {
     "name": "stdout",
     "output_type": "stream",
     "text": [
      "True\n",
      "[[ 39.72713163 -39.47306799]\n",
      " [-39.47306799  39.83411463]]\n",
      "True\n",
      "[[ 39.89174731 -39.64984514]\n",
      " [-39.64984514  39.88973713]]\n"
     ]
    },
    {
     "name": "stderr",
     "output_type": "stream",
     "text": [
      "INFO:root:[Minimize res] v: 1.0 s: 1.0\n",
      "INFO:root:[Minimize res] v: 21.997897019601943 s: 0.7028119211815356\n"
     ]
    },
    {
     "name": "stdout",
     "output_type": "stream",
     "text": [
      "True\n",
      "[[ 64.29356171 -63.46088608]\n",
      " [-63.46088608  63.44362476]]\n",
      "True\n",
      "[[ 64.30049166 -62.67049511]\n",
      " [-62.67049511  64.15197051]]\n"
     ]
    },
    {
     "name": "stderr",
     "output_type": "stream",
     "text": [
      "INFO:root:[Minimize res] v: 1.0 s: 1.0\n",
      "INFO:root:[Minimize res] v: 1.999899858076283 s: 0.9858481867229303\n"
     ]
    },
    {
     "name": "stdout",
     "output_type": "stream",
     "text": [
      "True\n",
      "[[ 64.3029659  -62.59479639]\n",
      " [-62.59479639  64.2609989 ]]\n",
      "True\n",
      "[[ 64.27233797 -62.62194419]\n",
      " [-62.62194419  64.12340313]]\n"
     ]
    },
    {
     "name": "stderr",
     "output_type": "stream",
     "text": [
      "INFO:root:[Minimize res] v: 1.0 s: 1.0\n",
      "INFO:root:[Minimize res] v: 1.0 s: 1.0\n"
     ]
    },
    {
     "name": "stdout",
     "output_type": "stream",
     "text": [
      "True\n",
      "[[ 64.30677478 -62.59439457]\n",
      " [-62.59439457  64.26281952]]\n",
      "True\n",
      "[[ 171.77714526 -170.34635682]\n",
      " [-170.34635682  170.3316861 ]]\n"
     ]
    },
    {
     "name": "stderr",
     "output_type": "stream",
     "text": [
      "INFO:root:[Minimize res] v: 21.99546308360671 s: 0.5635026862537234\n",
      "INFO:root:[Minimize res] v: 1.0 s: 1.0\n"
     ]
    },
    {
     "name": "stdout",
     "output_type": "stream",
     "text": [
      "True\n",
      "[[ 171.80917461 -168.86177349]\n",
      " [-168.86177349  171.79801546]]\n",
      "True\n",
      "[[ 171.77276011 -168.89917716]\n",
      " [-168.89917716  171.72250758]]\n"
     ]
    },
    {
     "name": "stderr",
     "output_type": "stream",
     "text": [
      "INFO:root:[Minimize res] v: 2.943640610101225 s: 0.9595915602423751\n"
     ]
    },
    {
     "name": "stdout",
     "output_type": "stream",
     "text": [
      "True\n",
      "[[ 171.79017565 -168.86463709]\n",
      " [-168.86463709  171.7332938 ]]\n"
     ]
    },
    {
     "name": "stderr",
     "output_type": "stream",
     "text": [
      "INFO:root:[Minimize res] v: 1.0 s: 1.0\n",
      "INFO:root:[Minimize res] v: 1.0000000000000009 s: 1.0\n"
     ]
    },
    {
     "name": "stdout",
     "output_type": "stream",
     "text": [
      "True\n",
      "[[ 171.79084043 -168.88294611]\n",
      " [-168.88294611  171.7407032 ]]\n",
      "True\n",
      "[[ 73.59295644 -73.03434293]\n",
      " [-73.03434293  73.06897478]]\n"
     ]
    },
    {
     "name": "stderr",
     "output_type": "stream",
     "text": [
      "INFO:root:[Minimize res] v: 35.753556350045756 s: 0.6172829406074287\n",
      "INFO:root:[Minimize res] v: 1.0 s: 1.0\n",
      "INFO:root:[Minimize res] v: 2.462678524790541 s: 0.9838925254668573\n"
     ]
    },
    {
     "name": "stdout",
     "output_type": "stream",
     "text": [
      "True\n",
      "[[ 73.42837253 -72.26268221]\n",
      " [-72.26268221  73.63727971]]\n",
      "True\n",
      "[[ 73.59732457 -72.52686525]\n",
      " [-72.52686525  73.57868882]]\n",
      "True\n",
      "[[ 73.54415623 -72.41698191]\n",
      " [-72.41698191  73.65073378]]\n"
     ]
    },
    {
     "name": "stderr",
     "output_type": "stream",
     "text": [
      "INFO:root:[Minimize res] v: 1.0 s: 1.0\n",
      "INFO:root:[Minimize res] v: 1.0 s: 1.0\n",
      "INFO:root:[Minimize res] v: 2.5535020449245645 s: 0.9945982740816627\n",
      "INFO:root:[Minimize res] v: 1.0 s: 1.0\n"
     ]
    },
    {
     "name": "stdout",
     "output_type": "stream",
     "text": [
      "True\n",
      "[[ 73.59607589 -72.520913  ]\n",
      " [-72.520913    73.58060801]]\n",
      "True\n",
      "[[ 25.37836171 -25.36241992]\n",
      " [-25.36241992  25.37050946]]\n",
      "True\n",
      "[[ 25.03416571 -24.97363469]\n",
      " [-24.97363469  25.35870464]]\n",
      "True\n",
      "[[ 25.37492025 -25.3504992 ]\n",
      " [-25.3504992   25.37525516]]\n"
     ]
    },
    {
     "name": "stderr",
     "output_type": "stream",
     "text": [
      "INFO:root:[Minimize res] v: 1.1606062913793505 s: 0.9994415513197255\n",
      "INFO:root:[Minimize res] v: 1.0 s: 1.0\n"
     ]
    },
    {
     "name": "stdout",
     "output_type": "stream",
     "text": [
      "True\n",
      "[[ 25.19993896 -25.1499637 ]\n",
      " [-25.1499637   25.38108948]]\n",
      "True\n",
      "[[ 25.37167351 -25.3469923 ]\n",
      " [-25.3469923   25.37251506]]\n"
     ]
    },
    {
     "name": "stderr",
     "output_type": "stream",
     "text": [
      "INFO:root:[Minimize res] v: 1.0000000000000007 s: 1.0\n",
      "INFO:root:[Minimize res] v: 1.355763665104331 s: 0.9990463571492164\n"
     ]
    },
    {
     "name": "stdout",
     "output_type": "stream",
     "text": [
      "True\n",
      "[[ 113.74674551 -113.43635788]\n",
      " [-113.43635788  113.47406435]]\n",
      "True\n",
      "[[ 113.56343612 -112.93991021]\n",
      " [-112.93991021  113.6893258 ]]\n"
     ]
    },
    {
     "name": "stderr",
     "output_type": "stream",
     "text": [
      "INFO:root:[Minimize res] v: 1.0000000000000002 s: 1.0\n"
     ]
    },
    {
     "name": "stdout",
     "output_type": "stream",
     "text": [
      "True\n",
      "[[ 113.7471466  -113.17145627]\n",
      " [-113.17145627  113.74414168]]\n"
     ]
    },
    {
     "name": "stderr",
     "output_type": "stream",
     "text": [
      "INFO:root:[Minimize res] v: 1.0 s: 1.0\n"
     ]
    },
    {
     "name": "stdout",
     "output_type": "stream",
     "text": [
      "True\n",
      "[[ 113.67454521 -113.06369303]\n",
      " [-113.06369303  113.7527552 ]]\n"
     ]
    },
    {
     "name": "stderr",
     "output_type": "stream",
     "text": [
      "INFO:root:[Minimize res] v: 1.000000000000002 s: 1.0\n"
     ]
    },
    {
     "name": "stdout",
     "output_type": "stream",
     "text": [
      "True\n",
      "[[ 113.74433139 -113.16748958]\n",
      " [-113.16748958  113.74198143]]\n"
     ]
    },
    {
     "name": "stderr",
     "output_type": "stream",
     "text": [
      "INFO:root:[Minimize res] v: 1.0 s: 1.0\n",
      "INFO:root:[Minimize res] v: 15.94161752002853 s: 0.4406248479271143\n"
     ]
    },
    {
     "name": "stdout",
     "output_type": "stream",
     "text": [
      "True\n",
      "[[ 37.91596586 -37.62781651]\n",
      " [-37.62781651  37.67347772]]\n",
      "True\n",
      "[[ 37.74792398 -37.02780923]\n",
      " [-37.02780923  38.35676355]]\n"
     ]
    },
    {
     "name": "stderr",
     "output_type": "stream",
     "text": [
      "INFO:root:[Minimize res] v: 1.0 s: 1.0\n",
      "INFO:root:[Minimize res] v: 1.9992999567183118 s: 0.9625888184792281\n",
      "INFO:root:[Minimize res] v: 1.0 s: 1.0\n"
     ]
    },
    {
     "name": "stdout",
     "output_type": "stream",
     "text": [
      "True\n",
      "[[ 37.91620722 -37.41630296]\n",
      " [-37.41630296  37.90290863]]\n",
      "True\n",
      "[[ 37.86778462 -37.21924682]\n",
      " [-37.21924682  38.23102079]]\n",
      "True\n",
      "[[ 37.91358343 -37.40917867]\n",
      " [-37.40917867  37.90649501]]\n"
     ]
    },
    {
     "name": "stderr",
     "output_type": "stream",
     "text": [
      "INFO:root:[Minimize res] v: 1.0 s: 1.0\n",
      "INFO:root:[Minimize res] v: 43.20508751097635 s: 0.6557240945989855\n",
      "INFO:root:[Minimize res] v: 1.0 s: 1.0\n"
     ]
    },
    {
     "name": "stdout",
     "output_type": "stream",
     "text": [
      "True\n",
      "[[ 32.3361304  -32.27679489]\n",
      " [-32.27679489  32.27828602]]\n",
      "True\n",
      "[[ 32.54090281 -32.43116177]\n",
      " [-32.43116177  32.57208921]]\n",
      "True\n",
      "[[ 32.3384029  -32.21817466]\n",
      " [-32.21817466  32.33775935]]\n"
     ]
    },
    {
     "name": "stderr",
     "output_type": "stream",
     "text": [
      "INFO:root:[Minimize res] v: 5.999833657975128 s: 0.9592152898864104\n",
      "INFO:root:[Minimize res] v: 1.0 s: 1.0\n",
      "INFO:root:[Minimize res] v: 1.0 s: 1.0\n"
     ]
    },
    {
     "name": "stdout",
     "output_type": "stream",
     "text": [
      "True\n",
      "[[ 32.46101902 -32.34722738]\n",
      " [-32.34722738  32.47635894]]\n",
      "True\n",
      "[[ 32.3394997  -32.21928118]\n",
      " [-32.21928118  32.3387902 ]]\n",
      "True\n",
      "[[ 56.19173439 -55.60996094]\n",
      " [-55.60996094  55.65233846]]\n"
     ]
    },
    {
     "name": "stderr",
     "output_type": "stream",
     "text": [
      "INFO:root:[Minimize res] v: 21.99551099017887 s: 0.5658131032859053\n",
      "INFO:root:[Minimize res] v: 1.0 s: 1.0\n",
      "INFO:root:[Minimize res] v: 1.9997862376275652 s: 0.979324433489805\n"
     ]
    },
    {
     "name": "stdout",
     "output_type": "stream",
     "text": [
      "True\n",
      "[[ 56.19561465 -54.9552047 ]\n",
      " [-54.9552047   56.48961212]]\n",
      "True\n",
      "[[ 56.19684129 -55.11024744]\n",
      " [-55.11024744  56.16985083]]\n",
      "True\n",
      "[[ 56.20698177 -55.02422682]\n",
      " [-55.02422682  56.3651349 ]]\n"
     ]
    },
    {
     "name": "stderr",
     "output_type": "stream",
     "text": [
      "INFO:root:[Minimize res] v: 1.0 s: 1.0\n",
      "INFO:root:[Minimize res] v: 1.0000000000000027 s: 0.9999999999999998\n",
      "INFO:root:[Minimize res] v: 5.990090401872891 s: 0.6853608715749813\n",
      "INFO:root:[Minimize res] v: 1.0 s: 1.0\n"
     ]
    },
    {
     "name": "stdout",
     "output_type": "stream",
     "text": [
      "True\n",
      "[[ 56.1966923  -55.10397399]\n",
      " [-55.10397399  56.17519596]]\n",
      "True\n",
      "[[ 29.29496553 -28.39159617]\n",
      " [-28.39159617  28.39938507]]\n",
      "True\n",
      "[[ 29.62021211 -27.87737303]\n",
      " [-27.87737303  29.77094297]]\n",
      "True\n",
      "[[ 29.30121293 -27.55023001]\n",
      " [-27.55023001  29.18739973]]\n"
     ]
    },
    {
     "name": "stderr",
     "output_type": "stream",
     "text": [
      "INFO:root:[Minimize res] v: 5.990090401872891 s: 0.6853608715749813\n",
      "INFO:root:[Minimize res] v: 1.0 s: 1.0\n",
      "INFO:root:[Minimize res] v: 1.0000000000000016 s: 0.9999999999999996\n",
      "INFO:root:[Minimize res] v: 1.966679106843409 s: 0.7440087806341222\n"
     ]
    },
    {
     "name": "stdout",
     "output_type": "stream",
     "text": [
      "True\n",
      "[[ 29.5003249  -27.77601751]\n",
      " [-27.77601751  29.43776438]]\n",
      "True\n",
      "[[ 29.30777597 -27.54143841]\n",
      " [-27.54143841  29.20499963]]\n",
      "True\n",
      "[[ 36.92789692 -36.10268348]\n",
      " [-36.10268348  36.10476189]]\n",
      "True\n",
      "[[ 36.98726451 -35.32349757]\n",
      " [-35.32349757  37.02278087]]\n"
     ]
    },
    {
     "name": "stderr",
     "output_type": "stream",
     "text": [
      "INFO:root:[Minimize res] v: 1.0 s: 1.0\n",
      "INFO:root:[Minimize res] v: 1.966679106843409 s: 0.7440087806341222\n",
      "INFO:root:[Minimize res] v: 1.0 s: 1.0\n",
      "INFO:root:[Minimize res] v: 1.0 s: 1.0\n",
      "INFO:root:[Minimize res] v: 16.76620954409877 s: 0.8056548872226748\n"
     ]
    },
    {
     "name": "stdout",
     "output_type": "stream",
     "text": [
      "True\n",
      "[[ 36.93857826 -35.30670005]\n",
      " [-35.30670005  36.8621366 ]]\n",
      "True\n",
      "[[ 36.85486777 -35.21772825]\n",
      " [-35.21772825  36.80065554]]\n",
      "True\n",
      "[[ 36.94680828 -35.30569883]\n",
      " [-35.30569883  36.87408782]]\n",
      "False\n",
      "[[ 0.40969264 -0.40969264]\n",
      " [-0.40969264  0.40969264]]\n"
     ]
    },
    {
     "ename": "LinAlgError",
     "evalue": "Singular matrix",
     "output_type": "error",
     "traceback": [
      "\u001b[0;31m---------------------------------------------------------------------------\u001b[0m",
      "\u001b[0;31mLinAlgError\u001b[0m                               Traceback (most recent call last)",
      "Cell \u001b[0;32mIn[7], line 1\u001b[0m\n\u001b[0;32m----> 1\u001b[0m wqeb\u001b[39m.\u001b[39;49malgorithm_iter(iter_num\u001b[39m=\u001b[39;49m\u001b[39m5\u001b[39;49m)\n",
      "File \u001b[0;32m~/Desktop/中研院/QEB/QEB/weighted_model.py:209\u001b[0m, in \u001b[0;36mWQEB.algorithm_iter\u001b[0;34m(self, iter_num, alpha)\u001b[0m\n\u001b[1;32m    206\u001b[0m vs\u001b[39m.\u001b[39mappend(v)\n\u001b[1;32m    207\u001b[0m ss\u001b[39m.\u001b[39mappend(s)\n\u001b[0;32m--> 209\u001b[0m mu_tilde_all, mu_mle, sigma_matrixs_tilde_all, as_tilde_all, bs_tilde_all \u001b[39m=\u001b[39m caculate_mu_mle_single(\n\u001b[1;32m    210\u001b[0m     \u001b[39mself\u001b[39;49m\u001b[39m.\u001b[39;49mXs_tilde[name], \u001b[39mself\u001b[39;49m\u001b[39m.\u001b[39;49mdata_log[name], \u001b[39mself\u001b[39;49m\u001b[39m.\u001b[39;49mweight_matrixs[name], \u001b[39mself\u001b[39;49m\u001b[39m.\u001b[39;49mlambda_matrixs[name], \\\n\u001b[1;32m    211\u001b[0m         sigma_matrix, \u001b[39mself\u001b[39;49m\u001b[39m.\u001b[39;49mmus_initial[name], v, s, name\n\u001b[1;32m    212\u001b[0m     )\n\u001b[1;32m    213\u001b[0m betas_em, sigmas_em \u001b[39m=\u001b[39m empirical_bayes_single(mu_tilde_all, as_tilde_all, bs_tilde_all)\n\u001b[1;32m    214\u001b[0m sigma_matrix \u001b[39m=\u001b[39m (betas_em \u001b[39m-\u001b[39m betas_em\u001b[39m.\u001b[39mmean())\u001b[39m.\u001b[39mT \u001b[39m@\u001b[39m (betas_em \u001b[39m-\u001b[39m betas_em\u001b[39m.\u001b[39mmean())\n",
      "File \u001b[0;32m~/Desktop/中研院/QEB/QEB/caculation.py:94\u001b[0m, in \u001b[0;36mcaculate_mu_mle_single\u001b[0;34m(X_tilde_all, y_tilde_all, weight_matrix_all, lambda_matrix, sigma_matrix, mu, v, s, name)\u001b[0m\n\u001b[1;32m     90\u001b[0m     weight_list\u001b[39m.\u001b[39mappend(weight)\n\u001b[1;32m     91\u001b[0m     inverse_weight_list\u001b[39m.\u001b[39mappend(inverse_weight)\n\u001b[0;32m---> 94\u001b[0m mus_mle \u001b[39m=\u001b[39m {name: np\u001b[39m.\u001b[39;49mlinalg\u001b[39m.\u001b[39;49minv(\u001b[39msum\u001b[39;49m(inverse_weight_list)) \u001b[39m@\u001b[39m \u001b[39msum\u001b[39m(weight_list)}\n\u001b[1;32m     95\u001b[0m sigma_matrixs_tilde \u001b[39m=\u001b[39m {name: np\u001b[39m.\u001b[39marray(sigma_matrix_tilde_list)}\n\u001b[1;32m     96\u001b[0m as_tilde \u001b[39m=\u001b[39m {name: np\u001b[39m.\u001b[39marray(a_tilde_list)}\n",
      "File \u001b[0;32m<__array_function__ internals>:180\u001b[0m, in \u001b[0;36minv\u001b[0;34m(*args, **kwargs)\u001b[0m\n",
      "File \u001b[0;32m/opt/anaconda3/envs/academia/lib/python3.10/site-packages/numpy/linalg/linalg.py:552\u001b[0m, in \u001b[0;36minv\u001b[0;34m(a)\u001b[0m\n\u001b[1;32m    550\u001b[0m signature \u001b[39m=\u001b[39m \u001b[39m'\u001b[39m\u001b[39mD->D\u001b[39m\u001b[39m'\u001b[39m \u001b[39mif\u001b[39;00m isComplexType(t) \u001b[39melse\u001b[39;00m \u001b[39m'\u001b[39m\u001b[39md->d\u001b[39m\u001b[39m'\u001b[39m\n\u001b[1;32m    551\u001b[0m extobj \u001b[39m=\u001b[39m get_linalg_error_extobj(_raise_linalgerror_singular)\n\u001b[0;32m--> 552\u001b[0m ainv \u001b[39m=\u001b[39m _umath_linalg\u001b[39m.\u001b[39;49minv(a, signature\u001b[39m=\u001b[39;49msignature, extobj\u001b[39m=\u001b[39;49mextobj)\n\u001b[1;32m    553\u001b[0m \u001b[39mreturn\u001b[39;00m wrap(ainv\u001b[39m.\u001b[39mastype(result_t, copy\u001b[39m=\u001b[39m\u001b[39mFalse\u001b[39;00m))\n",
      "File \u001b[0;32m/opt/anaconda3/envs/academia/lib/python3.10/site-packages/numpy/linalg/linalg.py:89\u001b[0m, in \u001b[0;36m_raise_linalgerror_singular\u001b[0;34m(err, flag)\u001b[0m\n\u001b[1;32m     88\u001b[0m \u001b[39mdef\u001b[39;00m \u001b[39m_raise_linalgerror_singular\u001b[39m(err, flag):\n\u001b[0;32m---> 89\u001b[0m     \u001b[39mraise\u001b[39;00m LinAlgError(\u001b[39m\"\u001b[39m\u001b[39mSingular matrix\u001b[39m\u001b[39m\"\u001b[39m)\n",
      "\u001b[0;31mLinAlgError\u001b[0m: Singular matrix"
     ]
    }
   ],
   "source": [
    "wqeb.algorithm_iter(iter_num=5)"
   ]
  },
  {
   "cell_type": "code",
   "execution_count": 7,
   "metadata": {},
   "outputs": [
    {
     "data": {
      "image/png": "[encoded data removed]",
      "text/plain": [
       "<Figure size 1200x1600 with 12 Axes>"
      ]
     },
     "metadata": {},
     "output_type": "display_data"
    }
   ],
   "source": [
    "wqeb.plot_data(max_rad=MAX_RAD, amino_acid=\"ALA\")"
   ]
  },
  {
   "cell_type": "code",
   "execution_count": 10,
   "metadata": {},
   "outputs": [
    {
     "data": {
      "text/plain": [
       "{'A': array([9.76595745e-05, 9.90518385e-05, 1.03926911e-04, 8.99209951e-05,\n",
       "        1.03284897e-04]),\n",
       " 'B': array([1.03363737e-04, 9.46707476e-05, 9.25573359e-05, 9.68368581e-05,\n",
       "        9.77364749e-05]),\n",
       " 'C': array([1.01431080e-04, 9.90796545e-05, 1.18134492e-04, 9.16795555e-05,\n",
       "        9.46363747e-05]),\n",
       " 'D': array([9.34715051e-05, 1.03010163e-04, 9.56032227e-05, 9.95700261e-05,\n",
       "        9.54171815e-05]),\n",
       " 'E': array([9.34094180e-05, 9.19663677e-05, 1.03074494e-04, 9.28318924e-05,\n",
       "        9.43507008e-05])}"
      ]
     },
     "execution_count": 10,
     "metadata": {},
     "output_type": "execute_result"
    }
   ],
   "source": [
    "wqeb.sigmas"
   ]
  },
  {
   "cell_type": "code",
   "execution_count": 21,
   "metadata": {},
   "outputs": [
    {
     "data": {
      "text/plain": [
       "{'SER': array([[-5.17860353, -3.03661209],\n",
       "        [-1.36214785,  3.80203866],\n",
       "        [-1.08675871,  4.4752002 ],\n",
       "        [-0.7642306 ,  4.86653465],\n",
       "        [-0.61063541,  5.0868902 ],\n",
       "        [-0.68174922,  4.72127278],\n",
       "        [-0.68001389,  4.83104636],\n",
       "        [-1.07950484,  3.41009157],\n",
       "        [-2.12851622,  3.22844157]]),\n",
       " 'THR': array([[-2.19701434,  4.45182712],\n",
       "        [-1.30426924,  4.58072537],\n",
       "        [-0.64603652,  5.40424895]]),\n",
       " 'GLN': array([[-0.99571489,  5.03634432],\n",
       "        [-0.84972828,  5.11469177],\n",
       "        [-1.23768274,  4.39869204],\n",
       "        [-0.74395238,  4.67023737],\n",
       "        [-0.8846552 ,  4.67467883],\n",
       "        [-0.69897967,  5.28435656],\n",
       "        [-0.73860792,  4.22777052],\n",
       "        [-0.89913397,  3.81763155],\n",
       "        [-0.99237881,  4.39583655],\n",
       "        [-0.96915953,  4.39510097],\n",
       "        [-0.90877731,  4.86492874]]),\n",
       " 'VAL': array([[-0.88495286,  4.05763127],\n",
       "        [-0.64564327,  4.09596254],\n",
       "        [-0.83460502,  3.9728296 ],\n",
       "        [-1.01046067,  3.56629697],\n",
       "        [-0.8851678 ,  3.53054953],\n",
       "        [-0.70026048,  4.48856708]]),\n",
       " 'ARG': array([[-0.85184167,  5.16613327],\n",
       "        [-0.76187541,  4.85222163],\n",
       "        [-0.73384199,  4.3097559 ],\n",
       "        [-0.88282397,  4.73501293],\n",
       "        [-0.72974053,  4.60450979],\n",
       "        [-0.82525523,  5.84162045]]),\n",
       " 'ASN': array([[-0.94239266,  4.05283656],\n",
       "        [-0.67926092,  5.30152845],\n",
       "        [-0.72386556,  4.60904923],\n",
       "        [-0.68983784,  5.17803243],\n",
       "        [-0.69035187,  5.1556041 ],\n",
       "        [-0.80317219,  5.53907754],\n",
       "        [-0.89861391,  4.45059784],\n",
       "        [-1.14048163,  5.33064952],\n",
       "        [-1.16516064,  5.5778915 ],\n",
       "        [-0.59377655,  6.22524585]]),\n",
       " 'TYR': array([[-0.92699314,  4.13742524],\n",
       "        [-0.72784849,  4.23155827],\n",
       "        [-0.68702209,  4.09924848],\n",
       "        [-0.60734933,  4.13242394],\n",
       "        [-0.78168296,  3.87672483],\n",
       "        [-0.58399978,  4.85267918],\n",
       "        [-0.83641453,  3.88917839],\n",
       "        [-1.07028711,  3.44719735]]),\n",
       " 'HIS': array([[-1.07007185,  3.77883623],\n",
       "        [-1.0725735 ,  3.53876158],\n",
       "        [-0.86616082,  5.06222211],\n",
       "        [-1.0217885 ,  3.74421712],\n",
       "        [-0.88659796,  4.74765957],\n",
       "        [-1.00058428,  3.83094804],\n",
       "        [-0.85128487,  3.69419336],\n",
       "        [-1.18437059,  4.13086901],\n",
       "        [-0.85335126,  3.2517422 ]]),\n",
       " 'ASP': array([[-1.1714123 ,  4.0213305 ],\n",
       "        [-0.82279899,  4.76549782],\n",
       "        [-0.96939264,  3.96107782],\n",
       "        [-0.98020311,  3.33446857],\n",
       "        [-0.89169549,  3.59006511],\n",
       "        [-1.55140505,  4.59744812],\n",
       "        [-1.58112805,  3.57995782],\n",
       "        [-1.4348668 ,  3.80317602],\n",
       "        [-1.50659864,  3.98786871],\n",
       "        [-1.02504629,  3.74024745],\n",
       "        [-1.06540549,  4.55010988],\n",
       "        [-0.87944622,  3.95289244]]),\n",
       " 'GLU': array([[-0.95547384,  4.3438405 ],\n",
       "        [-0.83587706,  3.7935635 ],\n",
       "        [-1.06893651,  4.69007575],\n",
       "        [-0.85271023,  4.96439053],\n",
       "        [-0.93168928,  5.25893867],\n",
       "        [-0.88444989,  4.69234065],\n",
       "        [-1.03646302,  4.99781428],\n",
       "        [-0.81378623,  4.94216785],\n",
       "        [-0.88114626,  5.21030884],\n",
       "        [-1.04165044,  5.01123492],\n",
       "        [-1.12531245,  4.99891366],\n",
       "        [-0.89401211,  4.37501144],\n",
       "        [-2.16801899,  5.16027544]]),\n",
       " 'ALA': array([[-1.15466201,  3.28011159],\n",
       "        [-0.86646321,  4.28334777],\n",
       "        [-0.75172311,  4.14883189],\n",
       "        [-0.91992547,  4.48628713],\n",
       "        [-0.64021339,  4.70885522],\n",
       "        [-0.90563624,  4.85722243],\n",
       "        [-0.78770069,  4.79032166],\n",
       "        [-0.89431509,  4.40252525],\n",
       "        [-1.0800854 ,  5.05534816],\n",
       "        [-0.94649363,  4.3539393 ],\n",
       "        [-1.46618873,  3.41540673]]),\n",
       " 'ILE': array([[-0.82805731,  4.92639712],\n",
       "        [-0.73963836,  4.41198548],\n",
       "        [-0.84430837,  4.05801399],\n",
       "        [-0.86082435,  4.03837626],\n",
       "        [-0.80431989,  3.18800358]]),\n",
       " 'LEU': array([[-0.75631389,  4.5503194 ],\n",
       "        [-0.72515001,  4.56908569],\n",
       "        [-0.62711745,  4.82767673],\n",
       "        [-0.83866047,  4.31393674],\n",
       "        [-0.84701235,  3.46340932],\n",
       "        [-0.60821057,  5.60491579],\n",
       "        [-0.88944622,  4.76639954],\n",
       "        [-0.83944699,  4.75053173],\n",
       "        [-0.86642493,  3.66051633],\n",
       "        [-1.01094086,  4.17149187],\n",
       "        [-0.93682476,  3.78522851],\n",
       "        [-0.98251516,  4.51204419],\n",
       "        [-0.88778187,  4.82177449],\n",
       "        [-1.01988257,  4.71196403],\n",
       "        [-0.76437383,  4.57331698],\n",
       "        [-0.95934653,  4.87096747],\n",
       "        [-0.90787976,  4.07597365],\n",
       "        [-0.72381285,  5.0322158 ]]),\n",
       " 'MET': array([[-0.57448452,  6.05372875],\n",
       "        [-0.75430988,  4.4536582 ],\n",
       "        [-0.73788489,  5.11298646],\n",
       "        [-1.19576495,  3.68397969]]),\n",
       " 'PHE': array([[-0.70622293,  4.10363595],\n",
       "        [-0.66907333,  4.65543128],\n",
       "        [-0.65412559,  4.48442285],\n",
       "        [-0.87314887,  4.99903244],\n",
       "        [-0.91657384,  4.19916243]]),\n",
       " 'LYS': array([[-0.6907984 ,  4.99723456],\n",
       "        [-1.02706157,  4.2917617 ],\n",
       "        [-0.95710348,  4.27274467],\n",
       "        [-1.14009305,  3.94412594],\n",
       "        [-1.44312114,  3.31614719],\n",
       "        [-0.87111349,  4.54952632],\n",
       "        [-0.6213031 ,  5.74294253],\n",
       "        [-1.13837663,  4.59344456]]),\n",
       " 'GLY': array([[-0.92674868,  3.34358266],\n",
       "        [-0.8430059 ,  4.61596924],\n",
       "        [-0.95755782,  4.05388217],\n",
       "        [-0.84397715,  3.32233512],\n",
       "        [-1.32384549,  4.36091292],\n",
       "        [-1.92280176,  3.77090541]]),\n",
       " 'PRO': array([[-1.09037496,  4.06062663],\n",
       "        [-0.88583217,  5.34228044],\n",
       "        [-2.0819844 ,  4.55787296]]),\n",
       " 'TRP': array([[-1.04303335,  2.94116219]]),\n",
       " 'CYS': array([[-0.86883408,  4.20765377],\n",
       "        [-0.91284827,  3.96293332]])}"
      ]
     },
     "execution_count": 21,
     "metadata": {},
     "output_type": "execute_result"
    }
   ],
   "source": [
    "wqeb.betas_em"
   ]
  },
  {
   "cell_type": "code",
   "execution_count": null,
   "metadata": {},
   "outputs": [],
   "source": []
  }
 ],
 "metadata": {
  "kernelspec": {
   "display_name": "academia",
   "language": "python",
   "name": "python3"
  },
  "language_info": {
   "codemirror_mode": {
    "name": "ipython",
    "version": 3
   },
   "file_extension": ".py",
   "mimetype": "text/x-python",
   "name": "python",
   "nbconvert_exporter": "python",
   "pygments_lexer": "ipython3",
   "version": "3.10.9"
  },
  "orig_nbformat": 4
 },
 "nbformat": 4,
 "nbformat_minor": 2
}
