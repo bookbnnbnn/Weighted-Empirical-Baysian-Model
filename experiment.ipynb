{
 "cells": [
  {
   "cell_type": "code",
   "execution_count": 4,
   "metadata": {},
   "outputs": [],
   "source": [
    "import pandas as pd\n",
    "import numpy as np\n",
    "import random\n",
    "from QEB import QEB"
   ]
  },
  {
   "cell_type": "code",
   "execution_count": null,
   "metadata": {},
   "outputs": [],
   "source": [
    "random.seed(0)\n",
    "np.random.seed(0)"
   ]
  },
  {
   "cell_type": "code",
   "execution_count": 3,
   "metadata": {},
   "outputs": [],
   "source": [
    "qeb = QEB(\n",
    "    mu_0=2, \n",
    "    sigma_0=0.3, \n",
    "    types_of_proteins=20, \n",
    "    numbers_of_each_type=[3, 2]*10, \n",
    "    adjustment_list=[[1]*3, [1.2]*2]*10, \n",
    "    grid_points=np.repeat(np.array([1, 2, 3]), 50000), \n",
    "    variances_of_error=[[1]*3, [1.3]*2]*10, \n",
    ")\n",
    "data = qeb.create_data()\n"
   ]
  },
  {
   "cell_type": "code",
   "execution_count": 4,
   "metadata": {},
   "outputs": [],
   "source": [
    "A_ij_tilde , B_j, C_j, D_j, sigma_j_bar = qeb.caculate_constants()"
   ]
  },
  {
   "cell_type": "code",
   "execution_count": null,
   "metadata": {},
   "outputs": [],
   "source": []
  },
  {
   "cell_type": "code",
   "execution_count": 15,
   "metadata": {},
   "outputs": [],
   "source": [
    "A_ij_tilde = qeb.estimate_A_ij_tilde()\n",
    "B_j, C_j, D_j, sigma_j_bar = qeb.caculate_constants()"
   ]
  },
  {
   "cell_type": "code",
   "execution_count": 5,
   "metadata": {},
   "outputs": [
    {
     "data": {
      "text/plain": [
       "[-1.368293498722168, -1.368212286723967, -1.3607215584865173]"
      ]
     },
     "execution_count": 5,
     "metadata": {},
     "output_type": "execute_result"
    }
   ],
   "source": [
    "A_ij_tilde[0]"
   ]
  },
  {
   "cell_type": "code",
   "execution_count": 7,
   "metadata": {},
   "outputs": [
    {
     "data": {
      "text/plain": [
       "[[-1.368293498722168, -1.368212286723967, -1.3607215584865173],\n",
       " [-1.6617333727237824, -1.6611212482604687],\n",
       " [-1.7633875267667065, -1.7629480254595657, -1.7660358819901258],\n",
       " [-1.5908980564854298, -1.5920269355066905],\n",
       " [-2.247404991158694, -2.256095673929157, -2.2459681899191564],\n",
       " [-1.5332167872947844, -1.5336192312619659],\n",
       " [-1.8018764368241875, -1.805339601883019, -1.80400047371009],\n",
       " [-1.2332598836922166, -1.2291347260485095],\n",
       " [-1.6843811208856811, -1.6794289993452, -1.682780158822231],\n",
       " [-1.7030576162654594, -1.6998612857946584],\n",
       " [-1.6917934092329059, -1.6908446128883705, -1.6908158605266497],\n",
       " [-1.7463204383277624, -1.738914098902078],\n",
       " [-2.0242851770906305, -2.027644385947703, -2.0273795208220697],\n",
       " [-1.5510716145964318, -1.5481468880040286],\n",
       " [-1.5235591758484759, -1.5293718861357606, -1.5336122744575675],\n",
       " [-1.4061021888441818, -1.4103571262152625],\n",
       " [-1.793611572572873, -1.7908113069606175, -1.7891201842351023],\n",
       " [-1.637665184741416, -1.6330709782747181],\n",
       " [-1.6681272591683616, -1.663928963520216, -1.6636739083227674],\n",
       " [-1.4048400086192991, -1.4060607731433272]]"
      ]
     },
     "execution_count": 7,
     "metadata": {},
     "output_type": "execute_result"
    }
   ],
   "source": [
    "A_ij_tilde"
   ]
  },
  {
   "cell_type": "code",
   "execution_count": 19,
   "metadata": {},
   "outputs": [
    {
     "data": {
      "text/plain": [
       "(-11964272.504662711, 9289084.963836906, -1837500.0, 1.0)"
      ]
     },
     "execution_count": 19,
     "metadata": {},
     "output_type": "execute_result"
    }
   ],
   "source": [
    "B_j[0], C_j[0], D_j[0], sigma_j_bar[0] "
   ]
  },
  {
   "cell_type": "code",
   "execution_count": 6,
   "metadata": {},
   "outputs": [
    {
     "data": {
      "text/plain": [
       "(-11964272.504662711, 9289084.963836906, -1837500.0, 1.0)"
      ]
     },
     "execution_count": 6,
     "metadata": {},
     "output_type": "execute_result"
    }
   ],
   "source": [
    "B_j[0], C_j[0], D_j[0], sigma_j_bar[0] "
   ]
  },
  {
   "cell_type": "code",
   "execution_count": null,
   "metadata": {},
   "outputs": [],
   "source": []
  }
 ],
 "metadata": {
  "kernelspec": {
   "display_name": "academia",
   "language": "python",
   "name": "python3"
  },
  "language_info": {
   "codemirror_mode": {
    "name": "ipython",
    "version": 3
   },
   "file_extension": ".py",
   "mimetype": "text/x-python",
   "name": "python",
   "nbconvert_exporter": "python",
   "pygments_lexer": "ipython3",
   "version": "3.10.9"
  },
  "orig_nbformat": 4,
  "vscode": {
   "interpreter": {
    "hash": "3a323d407e9b2063a26b3be04719ddeb79a57eecb4ec806a298489543e632999"
   }
  }
 },
 "nbformat": 4,
 "nbformat_minor": 2
}
